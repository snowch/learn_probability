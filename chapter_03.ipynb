{
 "cells": [
  {
   "cell_type": "markdown",
   "id": "5dcf4768",
   "metadata": {},
   "source": [
    "# Chapter 3: Counting Techniques: Permutations and Combinations\n",
    "\n",
    "Welcome to Chapter 3! In the previous chapter, we established the fundamental language of probability using sets and explored the basic axioms and rules. Now, we dive into a crucial skill for calculating probabilities, especially when dealing with equally likely outcomes: **counting**.\n",
    "\n",
    "Often, calculating a probability boils down to answering two questions:\n",
    "1.  How many total possible outcomes are there in our sample space?\n",
    "2.  How many of those outcomes correspond to the event we're interested in?\n",
    "\n",
    "If all outcomes are equally likely, the probability is simply the ratio of these two counts. While this sounds simple, counting the number of possibilities can become complex very quickly. Imagine trying to list every possible 5-card poker hand!\n",
    "\n",
    "This chapter introduces systematic methods for counting outcomes: the Multiplication Principle, Permutations, and Combinations. We'll see how these techniques allow us to tackle problems that would be tedious or impossible to solve by simple enumeration. We'll also use Python's `math` and `scipy.special` libraries to perform these calculations efficiently.\n",
    "\n",
    "Let's start counting!"
   ]
  },
  {
   "cell_type": "markdown",
   "id": "bc47226d",
   "metadata": {},
   "source": [
    "## The Multiplication Principle\n",
    "\n",
    "The most fundamental counting technique is the **Multiplication Principle** (also known as the rule of product).\n",
    "\n",
    "**Principle:** If a procedure can be broken down into a sequence of $k$ steps, and\n",
    "* there are $n_1$ ways to perform the first step,\n",
    "* there are $n_2$ ways to perform the second step (regardless of the outcome of the first step),\n",
    "* ...\n",
    "* there are $n_k$ ways to perform the $k$-th step (regardless of the outcomes of the previous steps),\n",
    "\n",
    "then the total number of ways to perform the entire procedure is the product $n_1 \\times n_2 \\times \\dots \\times n_k$.\n",
    "\n",
    "**Example:** A restaurant offers a fixed-price dinner menu with 3 choices for starters, 4 choices for the main course, and 2 choices for dessert. How many different meal combinations are possible?\n",
    "\n",
    "* Step 1: Choose a starter ($n_1 = 3$ ways)\n",
    "* Step 2: Choose a main course ($n_2 = 4$ ways)\n",
    "* Step 3: Choose a dessert ($n_3 = 2$ ways)\n",
    "\n",
    "According to the Multiplication Principle, the total number of different meal combinations is $3 \\times 4 \\times 2$."
   ]
  },
  {
   "cell_type": "code",
   "execution_count": 1,
   "id": "de50f41d",
   "metadata": {},
   "outputs": [],
   "source": [
    "# Using Python for the meal combination example\n",
    "num_starters = 3\n",
    "num_mains = 4\n",
    "num_desserts = 2"
   ]
  },
  {
   "cell_type": "code",
   "execution_count": 2,
   "id": "4add4fff",
   "metadata": {},
   "outputs": [],
   "source": [
    "total_combinations = num_starters * num_mains * num_desserts"
   ]
  },
  {
   "cell_type": "code",
   "execution_count": 3,
   "id": "207e840e",
   "metadata": {},
   "outputs": [
    {
     "name": "stdout",
     "output_type": "stream",
     "text": [
      "Total number of meal combinations: 24\n"
     ]
    }
   ],
   "source": [
    "print(f\"Total number of meal combinations: {total_combinations}\")"
   ]
  },
  {
   "cell_type": "markdown",
   "id": "c1ee4277",
   "metadata": {},
   "source": [
    "This principle is the foundation upon which permutations and combinations are built."
   ]
  },
  {
   "cell_type": "markdown",
   "id": "beed7b91",
   "metadata": {},
   "source": [
    "## Permutations: When Order Matters\n",
    "\n",
    "A **permutation** is an arrangement of objects in a specific order. Consider arranging books on a shelf – swapping two books creates a different arrangement.\n",
    "\n",
    "### Permutations without Repetition\n",
    "\n",
    "This is the most common type of permutation. It involves arranging $k$ distinct objects chosen from a set of $n$ distinct objects, where order matters and objects cannot be reused.\n",
    "\n",
    "**Formula:** The number of permutations of $n$ distinct objects taken $k$ at a time is denoted by $P(n, k)$, $_nP_k$, or $P^n_k$ and is calculated as:\n",
    "$$ P(n, k) = \\frac{n!}{(n-k)!} $$\n",
    "where $n!$ (read \"n factorial\") is the product of all positive integers up to $n$ (i.e., $n! = n \\times (n-1) \\times \\dots \\times 2 \\times 1$), and $0! = 1$ by definition.\n",
    "\n",
    "**Example:** In a race with 8 runners, how many different ways can the 1st, 2nd, and 3rd place medals be awarded?\n",
    "\n",
    "Here, we are choosing $k=3$ winners from $n=8$ runners, and the order matters (Gold is different from Silver). We cannot reuse a runner (no repetition).\n",
    "\n",
    "Using the formula:\n",
    "$$ P(8, 3) = \\frac{8!}{(8-3)!} = \\frac{8!}{5!} = \\frac{8 \\times 7 \\times 6 \\times 5 \\times 4 \\times 3 \\times 2 \\times 1}{5 \\times 4 \\times 3 \\times 2 \\times 1} = 8 \\times 7 \\times 6 $$\n",
    "\n",
    "Let's calculate this using Python."
   ]
  },
  {
   "cell_type": "code",
   "execution_count": 4,
   "id": "db94aa49",
   "metadata": {},
   "outputs": [],
   "source": [
    "import math\n",
    "from scipy.special import perm"
   ]
  },
  {
   "cell_type": "code",
   "execution_count": 5,
   "id": "8303a6f9",
   "metadata": {},
   "outputs": [],
   "source": [
    "# Using math.factorial\n",
    "n_runners = 8\n",
    "k_places = 3"
   ]
  },
  {
   "cell_type": "code",
   "execution_count": 6,
   "id": "db143990",
   "metadata": {},
   "outputs": [
    {
     "name": "stdout",
     "output_type": "stream",
     "text": [
      "Using math.factorial: P(8, 3) = 336\n"
     ]
    }
   ],
   "source": [
    "p_8_3_math = math.factorial(n_runners) // math.factorial(n_runners - k_places) # Use // for integer division\n",
    "print(f\"Using math.factorial: P({n_runners}, {k_places}) = {p_8_3_math}\")"
   ]
  },
  {
   "cell_type": "code",
   "execution_count": 7,
   "id": "47441bf2",
   "metadata": {},
   "outputs": [
    {
     "name": "stdout",
     "output_type": "stream",
     "text": [
      "Using scipy.special.perm: P(8, 3) = 336\n"
     ]
    }
   ],
   "source": [
    "# Using scipy.special.perm\n",
    "# Note: scipy.special.perm(n, k) calculates P(n, k) directly\n",
    "p_8_3_scipy = perm(n_runners, k_places, exact=True) # exact=True ensures integer result\n",
    "print(f\"Using scipy.special.perm: P({n_runners}, {k_places}) = {p_8_3_scipy}\")"
   ]
  },
  {
   "cell_type": "code",
   "execution_count": 8,
   "id": "9bea1de0",
   "metadata": {
    "lines_to_next_cell": 2
   },
   "outputs": [
    {
     "name": "stdout",
     "output_type": "stream",
     "text": [
      "Direct calculation: 336\n"
     ]
    }
   ],
   "source": [
    "# Direct calculation based on the multiplication principle\n",
    "p_8_3_direct = 8 * 7 * 6\n",
    "print(f\"Direct calculation: {p_8_3_direct}\")"
   ]
  },
  {
   "cell_type": "markdown",
   "id": "e60eacf2",
   "metadata": {},
   "source": [
    "**Special Case:** The number of ways to arrange all $n$ distinct objects is $P(n, n) = \\frac{n!}{(n-n)!} = \\frac{n!}{0!} = n!$. For example, there are $3! = 3 \\times 2 \\times 1 = 6$ ways to arrange the letters A, B, C: (ABC, ACB, BAC, BCA, CAB, CBA)."
   ]
  },
  {
   "cell_type": "markdown",
   "id": "c17ada2b",
   "metadata": {},
   "source": [
    "### Permutations with Repetition (Multinomial Coefficients)\n",
    "\n",
    "Sometimes we need to arrange objects where some are identical.\n",
    "\n",
    "**Formula:** The number of distinct permutations of $n$ objects where there are $n_1$ identical objects of type 1, $n_2$ identical objects of type 2, ..., and $n_k$ identical objects of type k (such that $n_1 + n_2 + \\dots + n_k = n$) is:\n",
    "$$ \\frac{n!}{n_1! n_2! \\dots n_k!} $$\n",
    "\n",
    "**Example:** How many distinct ways can the letters in the word \"MISSISSIPPI\" be arranged?\n",
    "\n",
    "* Total letters $n = 11$\n",
    "* M: $n_1 = 1$\n",
    "* I: $n_2 = 4$\n",
    "* S: $n_3 = 4$\n",
    "* P: $n_4 = 2$\n",
    "(Check: $1 + 4 + 4 + 2 = 11$)\n",
    "\n",
    "The number of distinct arrangements is:\n",
    "$$ \\frac{11!}{1! 4! 4! 2!} $$"
   ]
  },
  {
   "cell_type": "code",
   "execution_count": 9,
   "id": "b3a50650",
   "metadata": {},
   "outputs": [],
   "source": [
    "import math"
   ]
  },
  {
   "cell_type": "code",
   "execution_count": 10,
   "id": "997ab63a",
   "metadata": {},
   "outputs": [],
   "source": [
    "n = 11\n",
    "n_M = 1\n",
    "n_I = 4\n",
    "n_S = 4\n",
    "n_P = 2"
   ]
  },
  {
   "cell_type": "code",
   "execution_count": 11,
   "id": "e58d5dea",
   "metadata": {},
   "outputs": [],
   "source": [
    "# Calculate factorials\n",
    "numerator = math.factorial(n)\n",
    "denominator = math.factorial(n_M) * math.factorial(n_I) * math.factorial(n_S) * math.factorial(n_P)"
   ]
  },
  {
   "cell_type": "code",
   "execution_count": 12,
   "id": "2200c0f8",
   "metadata": {},
   "outputs": [],
   "source": [
    "distinct_arrangements = numerator // denominator # Use integer division"
   ]
  },
  {
   "cell_type": "code",
   "execution_count": 13,
   "id": "1cf040a0",
   "metadata": {
    "lines_to_next_cell": 2
   },
   "outputs": [
    {
     "name": "stdout",
     "output_type": "stream",
     "text": [
      "Number of distinct arrangements of 'MISSISSIPPI': 34650\n"
     ]
    }
   ],
   "source": [
    "print(f\"Number of distinct arrangements of 'MISSISSIPPI': {distinct_arrangements}\")"
   ]
  },
  {
   "cell_type": "markdown",
   "id": "f1ad345e",
   "metadata": {},
   "source": [
    "## Combinations: When Order Doesn't Matter\n",
    "\n",
    "A **combination** is a selection of objects where the order of selection does not matter. Consider choosing members for a committee – selecting Alice then Bob is the same as selecting Bob then Alice.\n",
    "\n",
    "### Combinations without Repetition\n",
    "\n",
    "This involves selecting $k$ distinct objects from a set of $n$ distinct objects, where order *does not* matter and objects cannot be reused.\n",
    "\n",
    "**Formula:** The number of combinations of $n$ distinct objects taken $k$ at a time is denoted by $C(n, k)$, $_nC_k$, $C^n_k$, or $\\binom{n}{k}$ (read \"n choose k\") and is calculated as:\n",
    "$$ C(n, k) = \\binom{n}{k} = \\frac{n!}{k!(n-k)!} $$\n",
    "\n",
    "Notice that $C(n, k) = \\frac{P(n, k)}{k!}$. This is because for every combination of $k$ objects, there are $k!$ ways to order them (permutations). We divide the number of permutations $P(n,k)$ by $k!$ to remove the effect of order.\n",
    "\n",
    "**Example:** How many ways can a committee of 3 people be chosen from a group of 10 people?\n",
    "\n",
    "Here, we are choosing $k=3$ people from $n=10$, and the order in which they are chosen doesn't matter.\n",
    "\n",
    "Using the formula:\n",
    "$$ C(10, 3) = \\binom{10}{3} = \\frac{10!}{3!(10-3)!} = \\frac{10!}{3!7!} = \\frac{10 \\times 9 \\times 8}{3 \\times 2 \\times 1} $$\n",
    "\n",
    "Let's calculate this using Python."
   ]
  },
  {
   "cell_type": "code",
   "execution_count": 14,
   "id": "cc16daf8",
   "metadata": {},
   "outputs": [],
   "source": [
    "import math\n",
    "from scipy.special import comb"
   ]
  },
  {
   "cell_type": "code",
   "execution_count": 15,
   "id": "dd0eca87",
   "metadata": {},
   "outputs": [],
   "source": [
    "# Using math.factorial\n",
    "n_people = 10\n",
    "k_committee = 3"
   ]
  },
  {
   "cell_type": "code",
   "execution_count": 16,
   "id": "2c995380",
   "metadata": {},
   "outputs": [
    {
     "name": "stdout",
     "output_type": "stream",
     "text": [
      "Using math.factorial: C(10, 3) = 120\n"
     ]
    }
   ],
   "source": [
    "c_10_3_math = math.factorial(n_people) // (math.factorial(k_committee) * math.factorial(n_people - k_committee))\n",
    "print(f\"Using math.factorial: C({n_people}, {k_committee}) = {c_10_3_math}\")"
   ]
  },
  {
   "cell_type": "code",
   "execution_count": 17,
   "id": "00a2ca44",
   "metadata": {},
   "outputs": [
    {
     "name": "stdout",
     "output_type": "stream",
     "text": [
      "Using scipy.special.comb: C(10, 3) = 120\n"
     ]
    }
   ],
   "source": [
    "# Using scipy.special.comb\n",
    "# Note: scipy.special.comb(n, k) calculates C(n, k) directly\n",
    "c_10_3_scipy = comb(n_people, k_committee, exact=True) # exact=True ensures integer result\n",
    "print(f\"Using scipy.special.comb: C({n_people}, {k_committee}) = {c_10_3_scipy}\")"
   ]
  },
  {
   "cell_type": "code",
   "execution_count": 18,
   "id": "63db3b64",
   "metadata": {
    "lines_to_next_cell": 2
   },
   "outputs": [
    {
     "name": "stdout",
     "output_type": "stream",
     "text": [
      "Direct calculation: 120\n"
     ]
    }
   ],
   "source": [
    "# Direct calculation\n",
    "c_10_3_direct = (10 * 9 * 8) // (3 * 2 * 1)\n",
    "print(f\"Direct calculation: {c_10_3_direct}\")"
   ]
  },
  {
   "cell_type": "markdown",
   "id": "e5e131de",
   "metadata": {},
   "source": [
    "### Combinations with Repetition\n",
    "\n",
    "This involves selecting $k$ objects from $n$ types of objects, where order doesn't matter and we can choose multiple objects of the same type (repetition is allowed). This is sometimes called \"multiset coefficient\" or \"stars and bars\" problem.\n",
    "\n",
    "**Formula:** The number of combinations with repetition of $n$ types of objects taken $k$ at a time is:\n",
    "$$ \\binom{n+k-1}{k} = \\frac{(n+k-1)!}{k!(n-1)!} $$\n",
    "\n",
    "**Example:** A bakery offers 4 types of donuts (plain, chocolate, glazed, jelly). How many different ways can you select a dozen (12) donuts?\n",
    "\n",
    "Here, $n=4$ (types of donuts) and we are choosing $k=12$ donuts. The order doesn't matter, and we can choose multiple donuts of the same type.\n",
    "\n",
    "Using the formula:\n",
    "$$ \\binom{4+12-1}{12} = \\binom{15}{12} = \\frac{15!}{12!(15-12)!} = \\frac{15!}{12!3!} = \\frac{15 \\times 14 \\times 13}{3 \\times 2 \\times 1} $$"
   ]
  },
  {
   "cell_type": "code",
   "execution_count": 19,
   "id": "2f5e650b",
   "metadata": {},
   "outputs": [],
   "source": [
    "from scipy.special import comb"
   ]
  },
  {
   "cell_type": "code",
   "execution_count": 20,
   "id": "abc6db05",
   "metadata": {},
   "outputs": [],
   "source": [
    "n_types = 4\n",
    "k_donuts = 12"
   ]
  },
  {
   "cell_type": "code",
   "execution_count": 21,
   "id": "30adca7d",
   "metadata": {},
   "outputs": [],
   "source": [
    "# Using the formula C(n+k-1, k)\n",
    "combinations_with_repetition = comb(n_types + k_donuts - 1, k_donuts, exact=True)"
   ]
  },
  {
   "cell_type": "code",
   "execution_count": 22,
   "id": "d32bc30c",
   "metadata": {},
   "outputs": [
    {
     "name": "stdout",
     "output_type": "stream",
     "text": [
      "Number of ways to choose 12 donuts from 4 types: 455\n"
     ]
    }
   ],
   "source": [
    "print(f\"Number of ways to choose {k_donuts} donuts from {n_types} types: {combinations_with_repetition}\")"
   ]
  },
  {
   "cell_type": "code",
   "execution_count": 23,
   "id": "789ed00e",
   "metadata": {},
   "outputs": [
    {
     "name": "stdout",
     "output_type": "stream",
     "text": [
      "Direct calculation: 455\n"
     ]
    }
   ],
   "source": [
    "# Direct calculation\n",
    "c_15_12_direct = (15 * 14 * 13) // (3 * 2 * 1)\n",
    "print(f\"Direct calculation: {c_15_12_direct}\")"
   ]
  },
  {
   "cell_type": "markdown",
   "id": "95157f71-544c-42b3-8dbb-492ff9ce1517",
   "metadata": {},
   "source": [
    "Note: \n",
    "- scipy.special.comb can also take repetition=True argument for this"
   ]
  },
  {
   "cell_type": "code",
   "execution_count": 24,
   "id": "19306d85-d61a-4fbf-b5ff-7d34926e5686",
   "metadata": {
    "lines_to_next_cell": 2
   },
   "outputs": [],
   "source": [
    "# combinations_with_repetition_scipy = comb(n_types, k_donuts, exact=True, repetition=True)\n",
    "# print(f\"Using scipy.special.comb with repetition=True: {combinations_with_repetition_scipy}\")"
   ]
  },
  {
   "cell_type": "markdown",
   "id": "f7873ace-3967-456a-81ed-2d248b20316c",
   "metadata": {},
   "source": [
    "^^ Uncomment the above lines if your SciPy version supports repetition=True (relatively recent addition)"
   ]
  },
  {
   "cell_type": "markdown",
   "id": "17e871ac",
   "metadata": {},
   "source": [
    "## Applications to Probability Problems\n",
    "\n",
    "Counting techniques are essential for calculating probabilities in scenarios with equally likely outcomes, often found in games of chance, sampling, and more.\n",
    "\n",
    "The basic formula is:\n",
    "$$ P(\\text{Event}) = \\frac{\\text{Number of outcomes favorable to the event}}{\\text{Total number of possible outcomes}} $$\n",
    "\n",
    "Both the numerator and the denominator often require permutations or combinations to calculate.\n",
    "\n",
    "**Example: UK National Lottery**\n",
    "In the UK National Lottery's main \"Lotto\" game (as of early 2020s), a player chooses 6 distinct numbers from 1 to 59. The lottery machine then randomly selects 6 distinct numbers. What is the probability of winning the jackpot (matching all 6 numbers)?\n",
    "\n",
    "1.  **Total number of possible outcomes:** This is the number of ways to choose 6 distinct numbers from 59, where order doesn't matter. This is a combination problem: $C(59, 6)$.\n",
    "2.  **Number of favorable outcomes:** There is only 1 way to match the specific 6 numbers drawn by the machine.\n",
    "\n",
    "The probability is $P(\\text{Jackpot}) = \\frac{1}{C(59, 6)}$."
   ]
  },
  {
   "cell_type": "code",
   "execution_count": 25,
   "id": "f8fee810",
   "metadata": {},
   "outputs": [],
   "source": [
    "from scipy.special import comb"
   ]
  },
  {
   "cell_type": "code",
   "execution_count": 26,
   "id": "5e03953e",
   "metadata": {},
   "outputs": [],
   "source": [
    "# Total numbers to choose from\n",
    "n_lotto = 59\n",
    "# Numbers to choose\n",
    "k_lotto = 6"
   ]
  },
  {
   "cell_type": "code",
   "execution_count": 27,
   "id": "fdcf45c6",
   "metadata": {},
   "outputs": [
    {
     "name": "stdout",
     "output_type": "stream",
     "text": [
      "Total possible UK Lotto combinations: 45,057,474\n"
     ]
    }
   ],
   "source": [
    "# Calculate the total number of possible combinations\n",
    "total_lotto_combinations = comb(n_lotto, k_lotto, exact=True)\n",
    "print(f\"Total possible UK Lotto combinations: {total_lotto_combinations:,}\") # Format with commas"
   ]
  },
  {
   "cell_type": "code",
   "execution_count": 28,
   "id": "2c1bf83f",
   "metadata": {
    "lines_to_next_cell": 2
   },
   "outputs": [
    {
     "name": "stdout",
     "output_type": "stream",
     "text": [
      "Probability of winning the jackpot: 1 / 45,057,474\n",
      "Probability (decimal): 0.0000000222\n",
      "Probability (scientific notation): 2.219388e-08\n"
     ]
    }
   ],
   "source": [
    "# Calculate the probability of winning the jackpot\n",
    "prob_jackpot = 1 / total_lotto_combinations\n",
    "print(f\"Probability of winning the jackpot: 1 / {total_lotto_combinations:,}\")\n",
    "print(f\"Probability (decimal): {prob_jackpot:.10f}\") # Print with more decimal places\n",
    "print(f\"Probability (scientific notation): {prob_jackpot:e}\")"
   ]
  },
  {
   "cell_type": "markdown",
   "id": "167d71f2",
   "metadata": {},
   "source": [
    "%% [markdown]\n",
    "**Example: Poker Hand Probability (Four of a Kind)**\n",
    "What is the probability of being dealt \"Four of a Kind\" in a standard 5-card poker hand from a 52-card deck? (Four cards of one rank, plus one other card of a different rank).\n",
    "\n",
    "1.  **Total number of possible outcomes:** The total number of ways to choose 5 cards from 52, where order doesn't matter. This is $C(52, 5)$.\n",
    "\n",
    "2.  **Number of favorable outcomes (Four of a Kind):** We can use the Multiplication Principle to count this:\n",
    "    * Step 1: Choose the rank for the four cards (e.g., four Aces, four Kings). There are $C(13, 1) = 13$ ways.\n",
    "    * Step 2: Choose the four cards of that rank. There is only $C(4, 4) = 1$ way (you must take all four suits).\n",
    "    * Step 3: Choose the rank for the fifth card (it must be different from the rank in Step 1). There are $C(12, 1) = 12$ remaining ranks.\n",
    "    * Step 4: Choose the suit for the fifth card. There are $C(4, 1) = 4$ ways.\n",
    "    Total favorable outcomes = $13 \\times 1 \\times 12 \\times 4$.\n",
    "\n",
    "The probability is $P(\\text{Four of a Kind}) = \\frac{13 \\times 1 \\times 12 \\times 4}{C(52, 5)}$."
   ]
  },
  {
   "cell_type": "code",
   "execution_count": 29,
   "id": "d1c35d00",
   "metadata": {},
   "outputs": [],
   "source": [
    "from scipy.special import comb"
   ]
  },
  {
   "cell_type": "code",
   "execution_count": 30,
   "id": "c5335b64",
   "metadata": {},
   "outputs": [],
   "source": [
    "# Total cards in deck\n",
    "n_deck = 52\n",
    "# Cards in hand\n",
    "k_hand = 5"
   ]
  },
  {
   "cell_type": "code",
   "execution_count": 31,
   "id": "46479f2f",
   "metadata": {},
   "outputs": [
    {
     "name": "stdout",
     "output_type": "stream",
     "text": [
      "Total possible 5-card poker hands: 2,598,960\n"
     ]
    }
   ],
   "source": [
    "# 1. Calculate the total number of possible 5-card hands\n",
    "total_hands = comb(n_deck, k_hand, exact=True)\n",
    "print(f\"Total possible 5-card poker hands: {total_hands:,}\")"
   ]
  },
  {
   "cell_type": "code",
   "execution_count": 32,
   "id": "0ecda665",
   "metadata": {},
   "outputs": [],
   "source": [
    "# 2. Calculate the number of ways to get Four of a Kind\n",
    "# Step 1: Choose rank for the four cards (13 ranks: A, 2, ..., 10, J, Q, K)\n",
    "ways_choose_rank4 = comb(13, 1, exact=True)\n",
    "# Step 2: Choose the 4 suits for that rank (only 1 way)\n",
    "ways_choose_suits4 = comb(4, 4, exact=True)\n",
    "# Step 3: Choose the rank for the fifth card (12 remaining ranks)\n",
    "ways_choose_rank1 = comb(12, 1, exact=True)\n",
    "# Step 4: Choose the suit for the fifth card (4 suits)\n",
    "ways_choose_suit1 = comb(4, 1, exact=True)"
   ]
  },
  {
   "cell_type": "code",
   "execution_count": 33,
   "id": "64ac251f",
   "metadata": {},
   "outputs": [
    {
     "name": "stdout",
     "output_type": "stream",
     "text": [
      "Number of ways to get Four of a Kind: 624\n"
     ]
    }
   ],
   "source": [
    "favorable_outcomes_4kind = ways_choose_rank4 * ways_choose_suits4 * ways_choose_rank1 * ways_choose_suit1\n",
    "print(f\"Number of ways to get Four of a Kind: {favorable_outcomes_4kind}\")"
   ]
  },
  {
   "cell_type": "code",
   "execution_count": 34,
   "id": "8a7f8eeb",
   "metadata": {
    "lines_to_next_cell": 2
   },
   "outputs": [
    {
     "name": "stdout",
     "output_type": "stream",
     "text": [
      "Probability of being dealt Four of a Kind: 0.00024010\n",
      "Approximately 1 in 4,165\n"
     ]
    }
   ],
   "source": [
    "# 3. Calculate the probability\n",
    "prob_4kind = favorable_outcomes_4kind / total_hands\n",
    "print(f\"Probability of being dealt Four of a Kind: {prob_4kind:.8f}\")\n",
    "print(f\"Approximately 1 in {1/prob_4kind:,.0f}\")"
   ]
  },
  {
   "cell_type": "markdown",
   "id": "34d40510",
   "metadata": {},
   "source": [
    "## Hands-on: Using Python for Counting\n",
    "\n",
    "We've already seen how `math.factorial`, `scipy.special.perm`, and `scipy.special.comb` can be used. Let's solidify this.\n",
    "\n",
    "**Key Functions:**\n",
    "* `math.factorial(n)`: Computes $n!$. Requires `n` to be a non-negative integer.\n",
    "* `scipy.special.perm(n, k, exact=True)`: Computes $P(n, k) = \\frac{n!}{(n-k)!}$. `exact=True` is recommended for integer results.\n",
    "* `scipy.special.comb(n, k, exact=True, repetition=False)`: Computes $C(n, k) = \\binom{n}{k} = \\frac{n!}{k!(n-k)!}$. `exact=True` is recommended. Set `repetition=True` for combinations with repetition.\n",
    "\n",
    "**Remember to import them:**\n",
    "```python\n",
    "import math\n",
    "from scipy.special import perm, comb\n",
    "```\n",
    "\n",
    "**Exercise Idea:** Calculate the probability of getting a \"Full House\" (three cards of one rank, two cards of another rank) in a 5-card poker hand.\n",
    "\n",
    "*Hint:*\n",
    "1.  Total hands: $C(52, 5)$ (calculated above).\n",
    "2.  Favorable outcomes:\n",
    "    * Choose the rank for the three cards: $C(13, 1)$ ways.\n",
    "    * Choose 3 suits for that rank: $C(4, 3)$ ways.\n",
    "    * Choose the rank for the two cards: $C(12, 1)$ ways (must be different from the first rank).\n",
    "    * Choose 2 suits for that second rank: $C(4, 2)$ ways.\n",
    "    * Use the Multiplication Principle.*"
   ]
  },
  {
   "cell_type": "markdown",
   "id": "faa0f742",
   "metadata": {},
   "source": [
    "Exercise: Calculate probability of a Full House"
   ]
  },
  {
   "cell_type": "markdown",
   "id": "a9dd35fe",
   "metadata": {},
   "source": [
    "Total hands (already calculated)\n",
    "total_hands = comb(52, 5, exact=True)"
   ]
  },
  {
   "cell_type": "code",
   "execution_count": 35,
   "id": "666cc9df",
   "metadata": {},
   "outputs": [],
   "source": [
    "# Favorable outcomes for Full House\n",
    "# Step 1: Choose rank for the three cards\n",
    "ways_choose_rank3 = comb(13, 1, exact=True)\n",
    "# Step 2: Choose 3 suits for that rank\n",
    "ways_choose_suits3 = comb(4, 3, exact=True)\n",
    "# Step 3: Choose rank for the pair (from remaining 12 ranks)\n",
    "ways_choose_rank2 = comb(12, 1, exact=True)\n",
    "# Step 4: Choose 2 suits for that rank\n",
    "ways_choose_suits2 = comb(4, 2, exact=True)"
   ]
  },
  {
   "cell_type": "code",
   "execution_count": 36,
   "id": "b7aae531",
   "metadata": {},
   "outputs": [
    {
     "name": "stdout",
     "output_type": "stream",
     "text": [
      "Number of ways to get a Full House: 3744\n"
     ]
    }
   ],
   "source": [
    "favorable_outcomes_fullhouse = ways_choose_rank3 * ways_choose_suits3 * ways_choose_rank2 * ways_choose_suits2\n",
    "print(f\"Number of ways to get a Full House: {favorable_outcomes_fullhouse}\")"
   ]
  },
  {
   "cell_type": "code",
   "execution_count": 37,
   "id": "aa27ff8d",
   "metadata": {},
   "outputs": [
    {
     "name": "stdout",
     "output_type": "stream",
     "text": [
      "Probability of being dealt a Full House: 0.00144058\n",
      "Approximately 1 in 694\n"
     ]
    }
   ],
   "source": [
    "# Calculate the probability\n",
    "prob_fullhouse = favorable_outcomes_fullhouse / total_hands\n",
    "print(f\"Probability of being dealt a Full House: {prob_fullhouse:.8f}\")\n",
    "print(f\"Approximately 1 in {1/prob_fullhouse:,.0f}\")"
   ]
  },
  {
   "cell_type": "markdown",
   "id": "7f015fba",
   "metadata": {},
   "source": [
    "## Summary\n",
    "\n",
    "In this chapter, we learned the fundamental counting techniques essential for calculating probabilities in many situations:\n",
    "* **Multiplication Principle:** If a task has sequential steps, multiply the number of ways to do each step to get the total number of ways.\n",
    "* **Permutations ($P(n, k)$):** Used when selecting $k$ items from $n$ **where order matters** and there is no repetition. Formula: $\\frac{n!}{(n-k)!}$.\n",
    "* **Combinations ($C(n, k)$ or $\\binom{n}{k}$):** Used when selecting $k$ items from $n$ **where order does not matter** and there is no repetition. Formula: $\\frac{n!}{k!(n-k)!}$.\n",
    "* We also briefly touched upon permutations and combinations **with repetition**.\n",
    "* These techniques are crucial for calculating probabilities of the form $P(E) = \\frac{|E|}{|S|}$ where outcomes are equally likely.\n",
    "\n",
    "We saw how to apply these concepts to practical examples like meal combinations, race outcomes, committee selections, lottery odds, and poker hands. We also leveraged Python's `math.factorial` and `scipy.special.perm`/`comb` functions to perform these calculations efficiently.\n",
    "\n",
    "Mastering these counting techniques provides a powerful toolkit for tackling a wide range of probability problems. In the next chapter, we will move on to exploring probabilities when events are not independent, introducing the concept of Conditional Probability."
   ]
  },
  {
   "cell_type": "code",
   "execution_count": null,
   "id": "a5093348-2a22-46c0-986c-d04399555ca6",
   "metadata": {},
   "outputs": [],
   "source": []
  }
 ],
 "metadata": {
  "jupytext": {
   "encoding": "# -*- coding: utf-8 -*-",
   "formats": "ipynb,py:light"
  },
  "kernelspec": {
   "display_name": "Python 3 (ipykernel)",
   "language": "python",
   "name": "python3"
  },
  "language_info": {
   "codemirror_mode": {
    "name": "ipython",
    "version": 3
   },
   "file_extension": ".py",
   "mimetype": "text/x-python",
   "name": "python",
   "nbconvert_exporter": "python",
   "pygments_lexer": "ipython3",
   "version": "3.11.10"
  }
 },
 "nbformat": 4,
 "nbformat_minor": 5
}
