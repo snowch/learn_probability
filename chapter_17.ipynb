{
 "cells": [
  {
   "cell_type": "markdown",
   "id": "b47f02d7",
   "metadata": {},
   "source": [
    "# Chapter 17: Monte Carlo Methods"
   ]
  },
  {
   "cell_type": "markdown",
   "id": "ad31a02c",
   "metadata": {},
   "source": [
    "Welcome to Chapter 17! In this chapter, we delve into a powerful class of computational algorithms that rely on repeated random sampling to obtain numerical results: **Monte Carlo methods**. The underlying concept is remarkably simple yet profoundly effective: use randomness to solve problems that might be deterministic in principle but are too complex to solve analytically."
   ]
  },
  {
   "cell_type": "markdown",
   "id": "90a5f2fd",
   "metadata": {},
   "source": [
    "## The Core Idea: Using Random Sampling"
   ]
  },
  {
   "cell_type": "markdown",
   "id": "317fe633",
   "metadata": {},
   "source": [
    "At its heart, the Monte Carlo method leverages the **Law of Large Numbers (LLN)**. We learned that the average of results obtained from a large number of trials should be close to the expected value and will tend to become closer as more trials are performed.\n",
    "\n",
    "Monte Carlo methods apply this principle to estimate quantities that are difficult to calculate directly. If we can express a quantity of interest as the expected value of some random variable, we can estimate it by:\n",
    "1.  Simulating many random samples (realizations) of the random variable.\n",
    "2.  Calculating the sample mean of these realizations.\n",
    "\n",
    "**Why use them?**\n",
    "* **Complexity:** They can tackle problems with complex geometries, high dimensionality, or intricate dependencies where analytical solutions are intractable.\n",
    "* **Simulation:** They allow simulating complex systems (like queues, financial markets, physical processes) to understand their behavior and estimate key metrics.\n",
    "* **Flexibility:** They can be adapted to a wide range of problems in physics, engineering, finance, statistics, and more."
   ]
  },
  {
   "cell_type": "markdown",
   "id": "dfbf1152",
   "metadata": {},
   "source": [
    "**Example: Estimating Average Wait Time in a Queue**\n",
    "\n",
    "Imagine a complex queueing system (e.g., a call center with variable call arrival rates, different agent skill levels, and complex routing rules). Calculating the exact average customer wait time analytically might be impossible. \n",
    "\n",
    "With Monte Carlo:\n",
    "1.  **Model:** Define probability distributions for customer arrivals (e.g., Poisson process) and service times (e.g., Exponential distribution).\n",
    "2.  **Simulate:** Run a simulation of the call center for a 'day' many times (e.g., 10,000 times). In each simulation run, track the wait time for each simulated customer.\n",
    "3.  **Estimate:** Calculate the average wait time within each simulated day. Then, average these daily averages across all 10,000 simulations. By the LLN, this overall average will be a good estimate of the true long-run average wait time."
   ]
  },
  {
   "cell_type": "markdown",
   "id": "3e237ca5",
   "metadata": {},
   "source": [
    "## Estimating Probabilities and Expected Values"
   ]
  },
  {
   "cell_type": "markdown",
   "id": "da2a3111",
   "metadata": {},
   "source": [
    "Monte Carlo methods are particularly useful for estimating probabilities and expected values that arise from complex processes."
   ]
  },
  {
   "cell_type": "markdown",
   "id": "6c8c44c2",
   "metadata": {},
   "source": [
    "### Estimating Probabilities\n",
    "\n",
    "To estimate the probability $P(A)$ of an event $A$, we can:\n",
    "1.  Run $N$ independent simulations of the underlying random experiment.\n",
    "2.  Count the number of times, $N_A$, that event $A$ occurs in the simulations.\n",
    "3.  Estimate $P(A) \\approx \\frac{N_A}{N}$.\n",
    "\n",
    "This is essentially calculating the empirical frequency of the event, which converges to the true probability as $N \\to \\infty$ by the LLN."
   ]
  },
  {
   "cell_type": "markdown",
   "id": "22f0c71f",
   "metadata": {},
   "source": [
    "**Example: Estimating the Probability of Winning in Craps**\n",
    "\n",
    "Craps is a dice game with somewhat complex rules for winning. We can simulate the game many times to estimate the overall probability of the 'shooter' winning.\n",
    "\n",
    "**(Conceptual Code Structure)**\n",
    "```python\n",
    "def play_craps():\n",
    "    # Roll dice, check rules (come-out roll: 7, 11 win; 2, 3, 12 lose)\n",
    "    # If point established, continue rolling until point or 7\n",
    "    # Return True if win, False if lose\n",
    "\n",
    "N = 100000  # Number of simulations\n",
    "wins = 0\n",
    "for _ in range(N):\n",
    "    if play_craps():\n",
    "        wins += 1\n",
    "\n",
    "estimated_prob_win = wins / N\n",
    "print(f\"Estimated P(Win) in Craps: {estimated_prob_win:.4f}\")\n",
    "```\n",
    "(The actual probability is known to be approximately 244/495 ≈ 0.4929)"
   ]
  },
  {
   "cell_type": "markdown",
   "id": "32d69204",
   "metadata": {},
   "source": [
    "### Estimating Expected Values\n",
    "\n",
    "To estimate the expected value $E[g(X)]$ of a function $g$ of a random variable $X$:\n",
    "1.  Generate $N$ independent random samples $X_1, X_2, ..., X_N$ from the distribution of $X$.\n",
    "2.  Calculate $g(X_i)$ for each sample.\n",
    "3.  Estimate $E[g(X)] \\approx \\frac{1}{N} \\sum_{i=1}^{N} g(X_i)$.\n",
    "\n",
    "This again relies on the LLN, where the sample mean of $g(X_i)$ converges to $E[g(X)]$. This is extremely powerful when the distribution of $X$ or the function $g$ makes analytical calculation of the expectation difficult or impossible."
   ]
  },
  {
   "cell_type": "code",
   "execution_count": null,
   "id": "0ab5f6b3",
   "metadata": {},
   "outputs": [],
   "source": [
    "import numpy as np\n",
    "\n",
    "# Example: Estimate E[e^X] where X ~ Normal(0, 1)\n",
    "# Analytical answer: This is the MGF evaluated at t=1, which is e^(μt + σ^2*t^2/2) = e^(0*1 + 1^2*1^2/2) = e^(1/2) ≈ 1.6487\n",
    "\n",
    "N = 100000  # Number of samples\n",
    "mu = 0\n",
    "sigma = 1\n",
    "\n",
    "# 1. Generate samples from Normal(0, 1)\n",
    "X_samples = np.random.normal(mu, sigma, N)\n",
    "\n",
    "# 2. Apply the function g(x) = e^x\n",
    "g_X_samples = np.exp(X_samples)\n",
    "\n",
    "# 3. Calculate the sample mean\n",
    "estimated_expectation = np.mean(g_X_samples)\n",
    "\n",
    "print(f\"Estimated E[e^X] where X ~ N(0, 1): {estimated_expectation:.4f}\")\n",
    "print(f\"Analytical E[e^X]: {np.exp(0.5):.4f}\")"
   ]
  },
  {
   "cell_type": "markdown",
   "id": "d07ff5ee",
   "metadata": {},
   "source": [
    "## Monte Carlo Integration"
   ]
  },
  {
   "cell_type": "markdown",
   "id": "1e7d4d68",
   "metadata": {},
   "source": [
    "Monte Carlo methods provide a way to estimate definite integrals, especially useful in high dimensions where other numerical integration methods (like quadrature) become computationally expensive (the \"curse of dimensionality\")."
   ]
  },
  {
   "cell_type": "markdown",
   "id": "b6241570",
   "metadata": {},
   "source": [
    "### Method 1: Hit-or-Miss (Estimating Area)\n",
    "\n",
    "This method is intuitive for estimating the area of a region $A$ within a larger region $B$ of known area $Area(B)$.\n",
    "1.  Generate $N$ random points uniformly within the larger region $B$.\n",
    "2.  Count the number of points, $N_{hit}$, that fall inside region $A$.\n",
    "3.  The proportion of points falling inside $A$ approximates the ratio of the areas: $\\frac{N_{hit}}{N} \\approx \\frac{Area(A)}{Area(B)}$.\n",
    "4.  Estimate $Area(A) \\approx Area(B) \\times \\frac{N_{hit}}{N}$.\n",
    "\n",
    "A classic example is estimating $\\pi$."
   ]
  },
  {
   "cell_type": "code",
   "execution_count": null,
   "id": "3ed58f7a",
   "metadata": {},
   "outputs": [],
   "source": [
    "import numpy as np\n",
    "import matplotlib.pyplot as plt\n",
    "\n",
    "# Estimate Pi using Monte Carlo integration\n",
    "\n",
    "N = 10000  # Number of random points\n",
    "\n",
    "# Generate N points (x, y) uniformly in the square [-1, 1] x [-1, 1]\n",
    "# Area of square B = 2 * 2 = 4\n",
    "x_coords = np.random.uniform(-1, 1, N)\n",
    "y_coords = np.random.uniform(-1, 1, N)\n",
    "\n",
    "# Check if points are inside the unit circle (x^2 + y^2 <= 1)\n",
    "# Area of circle A = pi * r^2 = pi * 1^2 = pi\n",
    "distances_sq = x_coords**2 + y_coords**2\n",
    "is_inside_circle = distances_sq <= 1\n",
    "\n",
    "# Count hits\n",
    "N_hit = np.sum(is_inside_circle)\n",
    "\n",
    "# Estimate Area(A) = Area(B) * (N_hit / N)\n",
    "estimated_pi = 4.0 * N_hit / N\n",
    "\n",
    "print(f\"Estimated value of Pi: {estimated_pi:.5f}\")\n",
    "\n",
    "# --- Visualization (Optional) ---\n",
    "plt.figure(figsize=(6, 6))\n",
    "plt.scatter(x_coords[is_inside_circle], y_coords[is_inside_circle], color='blue', s=1, label='Inside Circle')\n",
    "plt.scatter(x_coords[~is_inside_circle], y_coords[~is_inside_circle], color='red', s=1, label='Outside Circle')\n",
    "\n",
    "# Draw the circle boundary\n",
    "theta = np.linspace(0, 2*np.pi, 100)\n",
    "plt.plot(np.cos(theta), np.sin(theta), color='black', linestyle='--')\n",
    "\n",
    "plt.title(f'Estimating Pi (N={N}, Estimate={estimated_pi:.4f})')\n",
    "plt.xlabel('x')\n",
    "plt.ylabel('y')\n",
    "plt.axis('equal')\n",
    "plt.legend()\n",
    "plt.grid(True)\n",
    "plt.show()"
   ]
  },
  {
   "cell_type": "markdown",
   "id": "c5f3ed27",
   "metadata": {},
   "source": [
    "### Method 2: Using Expected Values\n",
    "\n",
    "We often want to compute $I = \\int_a^b g(x) dx$. We can rewrite this integral in terms of an expected value. Let $X$ be a random variable uniformly distributed on $[a, b]$. The PDF of $X$ is $f(x) = \\frac{1}{b-a}$ for $x \\in [a, b]$ and 0 otherwise.\n",
    "\n",
    "Then, the expected value of $\\frac{g(X)}{f(X)}$ is:\n",
    "$$ E\\left[\\frac{g(X)}{f(X)}\\right] = \\int_a^b \\frac{g(x)}{f(x)} f(x) dx = \\int_a^b g(x) dx = I $$\n",
    "\n",
    "Since $f(x) = \\frac{1}{b-a}$ is constant, we have $\\frac{g(X)}{f(X)} = (b-a)g(X)$. So,\n",
    "$$ I = E[(b-a)g(X)] = (b-a) E[g(X)] $$\n",
    "\n",
    "Therefore, we can estimate $I$ by:\n",
    "1.  Generating $N$ samples $X_1, ..., X_N$ from $Uniform(a, b)$.\n",
    "2.  Calculating $g(X_i)$ for each sample.\n",
    "3.  Estimating $I \\approx (b-a) \\times \\frac{1}{N} \\sum_{i=1}^{N} g(X_i)$."
   ]
  },
  {
   "cell_type": "code",
   "execution_count": null,
   "id": "57254680",
   "metadata": {},
   "outputs": [],
   "source": [
    "import numpy as np\n",
    "from scipy import integrate\n",
    "\n",
    "# Example: Estimate I = integral from 0 to 1 of exp(x^2) dx\n",
    "\n",
    "def g(x):\n",
    "    return np.exp(x**2)\n",
    "\n",
    "a = 0.0\n",
    "b = 1.0\n",
    "N = 100000 # Number of samples\n",
    "\n",
    "# 1. Generate samples from Uniform(a, b)\n",
    "X_samples = np.random.uniform(a, b, N)\n",
    "\n",
    "# 2. Calculate g(X_i)\n",
    "g_X_samples = g(X_samples)\n",
    "\n",
    "# 3. Estimate the integral\n",
    "estimated_integral = (b - a) * np.mean(g_X_samples)\n",
    "\n",
    "print(f\"Monte Carlo estimate of integral: {estimated_integral:.5f}\")\n",
    "\n",
    "# Compare with SciPy's numerical integration (quad)\n",
    "analytical_integral, error = integrate.quad(g, a, b)\n",
    "print(f\"SciPy quad estimate of integral: {analytical_integral:.5f} (error < {error:.1e})\")"
   ]
  },
  {
   "cell_type": "markdown",
   "id": "ed5f1e24",
   "metadata": {},
   "source": [
    "## Generating Random Variables"
   ]
  },
  {
   "cell_type": "markdown",
   "id": "38d60e70",
   "metadata": {},
   "source": [
    "Monte Carlo methods rely heavily on our ability to generate random numbers following specific probability distributions. While libraries like `numpy.random` provide generators for many common distributions, sometimes we need to generate variables from less common or custom distributions.\n",
    "\n",
    "Two common techniques are the Inverse Transform Method and the Acceptance-Rejection Method."
   ]
  },
  {
   "cell_type": "markdown",
   "id": "2278829a",
   "metadata": {},
   "source": [
    "### Inverse Transform Method\n",
    "\n",
    "This method is applicable if the Cumulative Distribution Function (CDF), $F(x) = P(X \\le x)$, is known and its inverse, $F^{-1}(u)$, can be computed.\n",
    "\n",
    "**Theorem:** If $U$ is a random variable following a Uniform(0, 1) distribution, then the random variable $X = F^{-1}(U)$ has the CDF $F(x)$.\n",
    "\n",
    "**Algorithm:**\n",
    "1.  Generate a random number $u$ from Uniform(0, 1).\n",
    "2.  Compute $x = F^{-1}(u)$. This $x$ is a random sample from the distribution with CDF $F(x)$.\n",
    "\n",
    "**Example: Generating from Exponential($\\lambda$)**\n",
    "The CDF is $F(x) = 1 - e^{-\\lambda x}$ for $x \\ge 0$. To find the inverse:\n",
    "Let $u = 1 - e^{-\\lambda x}$.\n",
    "$1 - u = e^{-\\lambda x}$\n",
    "$\\ln(1 - u) = -\\lambda x$\n",
    "$x = -\\frac{1}{\\lambda} \\ln(1 - u)$\n",
    "So, $F^{-1}(u) = -\\frac{1}{\\lambda} \\ln(1 - u)$.\n",
    "(Note: Since $U \\sim Uniform(0, 1)$, then $1-U$ also follows $Uniform(0, 1)$. Therefore, we can often simplify and use $x = -\\frac{1}{\\lambda} \\ln(u)$ instead.)"
   ]
  },
  {
   "cell_type": "code",
   "execution_count": null,
   "id": "ecb2cb6f",
   "metadata": {},
   "outputs": [],
   "source": [
    "import numpy as np\n",
    "import matplotlib.pyplot as plt\n",
    "\n",
    "def generate_exponential_inverse_transform(lambda_rate, size=1):\n",
    "    \"\"\"Generates samples from Exponential(lambda_rate) using Inverse Transform.\"\"\"\n",
    "    u = np.random.uniform(0, 1, size=size)\n",
    "    x = - (1 / lambda_rate) * np.log(u) # Using the simplified form\n",
    "    return x\n",
    "\n",
    "lambda_val = 0.5 # Rate parameter\n",
    "N_samples = 10000\n",
    "\n",
    "generated_samples = generate_exponential_inverse_transform(lambda_val, size=N_samples)\n",
    "\n",
    "# Compare with numpy's built-in generator\n",
    "numpy_samples = np.random.exponential(scale=1/lambda_val, size=N_samples) # Note: numpy uses scale = 1/lambda\n",
    "\n",
    "# Plot histograms to compare\n",
    "plt.figure(figsize=(12, 5))\n",
    "\n",
    "plt.subplot(1, 2, 1)\n",
    "plt.hist(generated_samples, bins=50, density=True, alpha=0.7, label='Inverse Transform')\n",
    "plt.title(f'Exponential(lambda={lambda_val}) - Inverse Transform')\n",
    "plt.xlabel('Value')\n",
    "plt.ylabel('Density')\n",
    "\n",
    "plt.subplot(1, 2, 2)\n",
    "plt.hist(numpy_samples, bins=50, density=True, alpha=0.7, label='NumPy Built-in', color='orange')\n",
    "plt.title(f'Exponential(lambda={lambda_val}) - NumPy')\n",
    "plt.xlabel('Value')\n",
    "plt.ylabel('Density')\n",
    "\n",
    "# Add theoretical PDF\n",
    "x_vals = np.linspace(0, np.max(generated_samples), 200)\n",
    "pdf_vals = lambda_val * np.exp(-lambda_val * x_vals)\n",
    "plt.subplot(1, 2, 1)\n",
    "plt.plot(x_vals, pdf_vals, 'r--', label='Theoretical PDF')\n",
    "plt.legend()\n",
    "plt.subplot(1, 2, 2)\n",
    "plt.plot(x_vals, pdf_vals, 'r--', label='Theoretical PDF')\n",
    "plt.legend()\n",
    "\n",
    "plt.tight_layout()\n",
    "plt.show()"
   ]
  },
  {
   "cell_type": "markdown",
   "id": "475be258",
   "metadata": {},
   "source": [
    "### Acceptance-Rejection Method\n",
    "\n",
    "This method is useful when the inverse CDF is hard to compute, but we can easily evaluate the target PDF $f(x)$. It also requires a proposal distribution $g(x)$ (from which we *can* easily sample) and a constant $c$ such that $f(x) \\le c \\cdot g(x)$ for all $x$.\n",
    "\n",
    "**Algorithm:**\n",
    "1.  Generate a candidate sample $y$ from the proposal distribution $g(x)$.\n",
    "2.  Generate a random number $u$ from Uniform(0, 1).\n",
    "3.  Check if $u \\le \\frac{f(y)}{c \\cdot g(y)}$.\n",
    "    * If yes, **accept** $y$ as a sample from $f(x)$.\n",
    "    * If no, **reject** $y$ and return to step 1.\n",
    "\n",
    "The efficiency depends on the choice of $g(x)$ and $c$. The closer $c \\cdot g(x)$ is to $f(x)$, the higher the acceptance probability (which is $1/c$).\n",
    "\n",
    "**Example: Sampling from a truncated Normal distribution**\n",
    "Suppose we want to sample from $N(0, 1)$ but restricted to the interval $[0, 2]$.\n",
    "- Target PDF $f(x)$ is proportional to the standard Normal PDF within $[0, 2]$ and 0 otherwise.\n",
    "- Proposal distribution $g(x)$ can be $Uniform(0, 2)$. The PDF is $g(x) = 1/2$ for $x \\in [0, 2]$.\n",
    "- We need $c$ such that $f(x) \\le c \\cdot g(x)$. The maximum of the standard Normal PDF is at $x=0$, which is $1/\\sqrt{2\\pi}$. So we need $ (1/\\sqrt{2\\pi}) \\le c \\cdot (1/2)$. We can choose $c = 2 / \\sqrt{2\\pi}$.\n",
    "- The acceptance condition becomes $u \\le \\frac{f(y)}{c \\cdot g(y)} = \\frac{NormalPDF(y)}{ (2 / \\sqrt{2\\pi}) \\cdot (1/2)} = \\sqrt{2\\pi} \\cdot NormalPDF(y) = e^{-y^2/2}$."
   ]
  },
  {
   "cell_type": "code",
   "execution_count": null,
   "id": "8832a396",
   "metadata": {},
   "outputs": [],
   "source": [
    "import numpy as np\n",
    "import matplotlib.pyplot as plt\n",
    "from scipy.stats import norm\n",
    "\n",
    "def generate_truncated_normal_accept_reject(mu, sigma, low, high, size=1):\n",
    "    \"\"\"Generates samples from N(mu, sigma) truncated to [low, high] using Accept-Reject.\"\"\"\n",
    "    samples = []\n",
    "    # Use Uniform(low, high) as proposal distribution g(x)\n",
    "    # PDF g(x) = 1 / (high - low)\n",
    "    # Target PDF f(x) is proportional to norm.pdf(x, mu, sigma) in [low, high]\n",
    "    # Find c such that norm.pdf(x) <= c * g(x)\n",
    "    # Max of norm.pdf occurs at mu if mu is in [low, high], else at boundary\n",
    "    x_mode = mu if low <= mu <= high else (low if mu < low else high)\n",
    "    max_pdf = norm.pdf(x_mode, mu, sigma)\n",
    "    c = max_pdf / (1 / (high - low))\n",
    "    \n",
    "    count_total = 0\n",
    "    while len(samples) < size:\n",
    "        count_total += 1\n",
    "        # 1. Sample y from proposal g(x) = Uniform(low, high)\n",
    "        y = np.random.uniform(low, high)\n",
    "        \n",
    "        # 2. Sample u from Uniform(0, 1)\n",
    "        u = np.random.uniform(0, 1)\n",
    "        \n",
    "        # 3. Acceptance check: u <= f(y) / (c * g(y))\n",
    "        target_pdf_val = norm.pdf(y, mu, sigma)\n",
    "        proposal_pdf_val = 1 / (high - low)\n",
    "        acceptance_ratio = target_pdf_val / (c * proposal_pdf_val)\n",
    "        \n",
    "        if u <= acceptance_ratio:\n",
    "            samples.append(y)\n",
    "            \n",
    "    print(f\"Acceptance Rate: {size / count_total:.3f} (Theoretical min: {1/c:.3f})\")\n",
    "    return np.array(samples)\n",
    "\n",
    "mu_val = 0\n",
    "sigma_val = 1\n",
    "low_bound = 0\n",
    "high_bound = 2\n",
    "N_samples = 5000\n",
    "\n",
    "generated_samples = generate_truncated_normal_accept_reject(mu_val, sigma_val, low_bound, high_bound, size=N_samples)\n",
    "\n",
    "# Plot histogram\n",
    "plt.figure(figsize=(8, 5))\n",
    "plt.hist(generated_samples, bins=50, density=True, alpha=0.7, label='Accept-Reject Samples')\n",
    "\n",
    "# Overlay theoretical truncated normal PDF (scaled)\n",
    "x_vals = np.linspace(low_bound, high_bound, 200)\n",
    "pdf_vals = norm.pdf(x_vals, mu_val, sigma_val)\n",
    "# Need to normalize the PDF over the interval [low_bound, high_bound]\n",
    "normalization_factor, _ = integrate.quad(lambda x: norm.pdf(x, mu_val, sigma_val), low_bound, high_bound)\n",
    "plt.plot(x_vals, pdf_vals / normalization_factor, 'r--', label='Theoretical PDF')\n",
    "\n",
    "plt.title(f'Truncated Normal({mu_val}, {sigma_val}^2) on [{low_bound}, {high_bound}]')\n",
    "plt.xlabel('Value')\n",
    "plt.ylabel('Density')\n",
    "plt.legend()\n",
    "plt.grid(True)\n",
    "plt.show()"
   ]
  },
  {
   "cell_type": "markdown",
   "id": "2738da10",
   "metadata": {},
   "source": [
    "## Hands-on Examples & Exercises"
   ]
  },
  {
   "cell_type": "markdown",
   "id": "190ad976",
   "metadata": {},
   "source": [
    "### Example 1: Buffon's Needle Problem\n",
    "\n",
    "This classic problem uses Monte Carlo simulation to estimate $\\pi$. Imagine dropping needles of length $L$ onto a floor with parallel lines spaced $D$ units apart ($L \\le D$). What is the probability that a randomly dropped needle crosses one of the lines?\n",
    "\n",
    "The analytical answer is $P(\\text{cross}) = \\frac{2L}{\\pi D}$. We can estimate this probability via simulation and then solve for $\\pi$.\n",
    "\n",
    "**Simulation Setup:**\n",
    "1.  Consider the position of the center of the needle $(y)$ relative to the nearest line below it. $y$ is uniformly distributed in $[0, D/2]$.\n",
    "2.  Consider the angle $(\\theta)$ the needle makes with the parallel lines. $\\theta$ is uniformly distributed in $[0, \\pi/2]$.\n",
    "3.  The needle crosses a line if the vertical distance from its center to its tip ($ (L/2) \\sin \\theta $) is greater than the distance to the nearest line ($y$). That is, cross if $y \\le (L/2) \\sin \\theta$.\n",
    "\n",
    "**Algorithm:**\n",
    "1.  Set $L$ and $D$ (e.g., $L=1, D=2$).\n",
    "2.  Run $N$ simulations:\n",
    "    a. Generate $y \\sim Uniform(0, D/2)$.\n",
    "    b. Generate $\\theta \\sim Uniform(0, \\pi/2)$.\n",
    "    c. Check if $y \\le (L/2) \\sin \\theta$. Count as a 'hit' if true.\n",
    "3.  Estimate $P(\\text{cross}) \\approx \\frac{N_{hits}}{N}$.\n",
    "4.  Estimate $\\pi \\approx \\frac{2L}{D \\times P(\\text{cross})}$. (If $L=1, D=2$, then $\\pi \\approx \\frac{1}{P(\\text{cross})}$)."
   ]
  },
  {
   "cell_type": "code",
   "execution_count": null,
   "id": "58c45154",
   "metadata": {},
   "outputs": [],
   "source": [
    "import numpy as np\n",
    "import math\n",
    "\n",
    "def estimate_pi_buffon(N=100000, L=1.0, D=2.0):\n",
    "    \"\"\"Estimates Pi using Buffon's Needle simulation.\"\"\"\n",
    "    if L > D:\n",
    "        print(\"Warning: Method assumes L <= D\")\n",
    "        \n",
    "    hits = 0\n",
    "    for _ in range(N):\n",
    "        # 1. Sample y from Uniform(0, D/2)\n",
    "        y_center = np.random.uniform(0, D / 2.0)\n",
    "        \n",
    "        # 2. Sample theta from Uniform(0, pi/2)\n",
    "        theta = np.random.uniform(0, math.pi / 2.0)\n",
    "        \n",
    "        # 3. Check for crossing\n",
    "        vertical_dist_tip = (L / 2.0) * math.sin(theta)\n",
    "        if y_center <= vertical_dist_tip:\n",
    "            hits += 1\n",
    "            \n",
    "    # Estimate probability\n",
    "    prob_cross = hits / N\n",
    "    \n",
    "    # Estimate Pi\n",
    "    if prob_cross == 0: # Avoid division by zero if N is very small / unlucky\n",
    "        return None, 0\n",
    "        \n",
    "    estimated_pi = (2 * L) / (D * prob_cross)\n",
    "    return estimated_pi, prob_cross\n",
    "\n",
    "# Run simulation\n",
    "num_simulations = 500000\n",
    "needle_length = 1.0\n",
    "line_spacing = 2.0\n",
    "\n",
    "pi_estimate, p_cross_estimate = estimate_pi_buffon(num_simulations, needle_length, line_spacing)\n",
    "\n",
    "print(f\"Buffon's Needle Simulation (N={num_simulations}, L={needle_length}, D={line_spacing})\")\n",
    "print(f\"Estimated P(Cross): {p_cross_estimate:.5f}\")\n",
    "if pi_estimate is not None:\n",
    "    print(f\"Estimated Pi: {pi_estimate:.5f}\")\n",
    "    print(f\"Absolute Error: {abs(pi_estimate - math.pi):.5f}\")"
   ]
  },
  {
   "cell_type": "markdown",
   "id": "a2a2da6c",
   "metadata": {},
   "source": [
    "### Exercises\n",
    "\n",
    "1.  **Poker Probability:** Write a simulation to estimate the probability of being dealt a \"flush\" (five cards of the same suit) from a standard 52-card deck. Compare your estimate to the known analytical probability.\n",
    "2.  **Monte Carlo Integration:** Estimate the value of $\\int_0^\\pi \\sin(x) dx$ using the expected value method (Method 2). The analytical answer is 2. How does the accuracy change as you increase the number of samples $N$?\n",
    "3.  **Custom Distribution:** Use the Acceptance-Rejection method to generate samples from a distribution whose PDF is proportional to $f(x) = 1 + \\sin(2\\pi x)$ for $x \\in [0, 1]$. Use $Uniform(0, 1)$ as the proposal distribution. Plot a histogram of your samples."
   ]
  },
  {
   "cell_type": "markdown",
   "id": "800269cc",
   "metadata": {},
   "source": [
    "## Chapter Summary"
   ]
  },
  {
   "cell_type": "markdown",
   "id": "8509a076",
   "metadata": {},
   "source": [
    "Monte Carlo methods are a versatile and powerful set of techniques based on random sampling.\n",
    "* They leverage the **Law of Large Numbers** to approximate quantities of interest.\n",
    "* They are particularly effective for **estimating probabilities and expected values** in complex scenarios where analytical solutions are difficult.\n",
    "* **Monte Carlo Integration** provides a way to estimate definite integrals, especially valuable in high dimensions or for complex integrands.\n",
    "* Generating random variables from specific distributions is crucial. Techniques like the **Inverse Transform Method** (when the inverse CDF is available) and the **Acceptance-Rejection Method** (when the PDF is known) allow us to sample from custom distributions.\n",
    "* The accuracy of Monte Carlo estimates generally improves as the number of simulations ($N$) increases, typically scaling with $1/\\sqrt{N}$.\n",
    "\n",
    "These methods form the foundation for many advanced simulation techniques used across science, engineering, and finance."
   ]
  }
 ],
 "metadata": {
  "kernelspec": {
   "display_name": "Python 3 (ipykernel)",
   "language": "python",
   "name": "python3"
  },
  "language_info": {
   "codemirror_mode": {
    "name": "ipython",
    "version": 3
   },
   "file_extension": ".py",
   "mimetype": "text/x-python",
   "name": "python",
   "nbconvert_exporter": "python",
   "pygments_lexer": "ipython3",
   "version": "3.11.10"
  }
 },
 "nbformat": 4,
 "nbformat_minor": 5
}
