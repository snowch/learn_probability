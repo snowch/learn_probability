{
 "cells": [
  {
   "cell_type": "markdown",
   "id": "8f904969",
   "metadata": {},
   "source": [
    "# Appendix A: Python/Jupyter Setup Deep Dive"
   ]
  },
  {
   "cell_type": "markdown",
   "id": "71b9eef0",
   "metadata": {},
   "source": [
    "## Introduction\n",
    "\n",
    "Welcome to the practical side of probability! This book relies heavily on using Python and specific libraries within the Jupyter Notebook environment to explore concepts, run simulations, and visualize results. This appendix provides a detailed guide to setting up this environment on your computer.\n",
    "\n",
    "Our goal is to ensure you can:\n",
    "1.  Install Python.\n",
    "2.  Run Jupyter Notebooks.\n",
    "3.  Install and verify the core scientific libraries: NumPy, SciPy, Matplotlib, and Seaborn.\n",
    "4.  Access the book's code examples.\n",
    "\n",
    "Even if you have some experience with Python, we recommend skimming through to ensure you have the specific setup used throughout the book."
   ]
  },
  {
   "cell_type": "markdown",
   "id": "f6588e34",
   "metadata": {},
   "source": [
    "## 1. Python Installation: The Anaconda Distribution\n",
    "\n",
    "The easiest way to get Python and the essential scientific libraries installed together is by using the **Anaconda Distribution**. Anaconda bundles Python, Jupyter, many core libraries (like NumPy, SciPy, Matplotlib, Pandas), and a package manager (`conda`) that simplifies installation and management of environments.\n",
    "\n",
    "**Steps:**\n",
    "\n",
    "1.  **Download:** Go to the Anaconda Distribution website: [https://www.anaconda.com/products/distribution](https://www.anaconda.com/products/distribution)\n",
    "2.  **Select Installer:** Download the installer appropriate for your operating system (Windows, macOS, Linux). Choose the latest Python 3.x version.\n",
    "3.  **Run Installer:** Execute the downloaded installer. Follow the on-screen instructions.\n",
    "    * **Recommendation:** Unless you have a specific reason not to, accept the default settings. This usually includes adding Anaconda to your system's PATH environment variable (though the installer might advise against it for advanced users, for beginners it's often simpler).\n",
    "    * You do **not** need administrator privileges to install Anaconda for your user only, which is often sufficient.\n",
    "\n",
    "**Verification:**\n",
    "\n",
    "Once installation is complete, open your system's terminal or command prompt:\n",
    "* **Windows:** Search for `Anaconda Prompt` in the Start menu and open it.\n",
    "* **macOS:** Open the `Terminal` application (found in Applications > Utilities).\n",
    "* **Linux:** Open your standard terminal.\n",
    "\n",
    "In the terminal, type the following command and press Enter:\n",
    "\n",
    "```bash\n",
    "python --version\n",
    "```\n",
    "\n",
    "You should see output similar to `Python 3.x.y` (e.g., `Python 3.10.9`), indicating Python is installed and accessible. If you get an error like \"command not found\", the installation might not have completed correctly, or Anaconda wasn't added to your PATH (you might need to reinstall or manually add it, consult Anaconda's documentation)."
   ]
  },
  {
   "cell_type": "markdown",
   "id": "70a55d01",
   "metadata": {},
   "source": [
    "## 2. Jupyter Notebooks\n",
    "\n",
    "Jupyter Notebooks provide an interactive, browser-based environment where you can write and execute Python code, add explanatory text (like this!), include mathematical equations, and display visualizations, all in one document. Anaconda comes with Jupyter pre-installed.\n",
    "\n",
    "**Launching JupyterLab (Recommended Interface):**\n",
    "\n",
    "1.  Open the Anaconda Prompt (Windows) or Terminal (macOS/Linux).\n",
    "2.  Navigate to the directory where you want to store your notebooks (or where you downloaded the book's code). You can use the `cd` (change directory) command. For example:\n",
    "    ```bash\n",
    "    # Example for Windows - navigate to a 'ProbBook' folder on the C drive\n",
    "    cd C:\\Users\\YourUsername\\Documents\\ProbBook \n",
    "    \n",
    "    # Example for macOS/Linux - navigate to a 'ProbBook' folder in your home directory\n",
    "    cd ~/Documents/ProbBook \n",
    "    ```\n",
    "3.  Type the following command and press Enter:\n",
    "    ```bash\n",
    "    jupyter lab\n",
    "    ```\n",
    "4.  This should automatically open a new tab in your default web browser displaying the JupyterLab interface. The terminal window must remain open while you are using JupyterLab.\n",
    "\n",
    "**Alternatively, Launching Classic Jupyter Notebook:**\n",
    "\n",
    "If you prefer the classic interface, use this command instead:\n",
    "```bash\n",
    "jupyter notebook\n",
    "```\n",
    "\n",
    "**Basic Jupyter Usage:**\n",
    "\n",
    "* **Interface:** JupyterLab typically shows a file browser on the left and a main work area on the right. You can open existing `.ipynb` notebook files or create new ones (File > New > Notebook).\n",
    "* **Cells:** Notebooks are composed of cells. The two main types are:\n",
    "    * **Code Cells:** Contain Python code to be executed. Select a code cell and press `Shift + Enter` (or click the Run button) to execute the code. Output appears below the cell.\n",
    "    * **Markdown Cells:** Contain formatted text (using Markdown syntax), like this cell. Press `Shift + Enter` to render the Markdown.\n",
    "* **Kernel:** The 'engine' that executes the code. You can restart the kernel if things get stuck (Kernel > Restart Kernel...). \n",
    "* **Saving:** Notebooks are saved automatically, but you can manually save using File > Save Notebook.\n",
    "* **Closing:** Close the browser tab. In the terminal where you launched Jupyter, press `Ctrl + C` (you might need to press it twice) and confirm shutdown if prompted."
   ]
  },
  {
   "cell_type": "markdown",
   "id": "a986bb3e",
   "metadata": {},
   "source": [
    "## 3. Core Libraries Installation/Verification\n",
    "\n",
    "Anaconda typically installs the most crucial libraries for this book automatically. These include:\n",
    "\n",
    "* **NumPy:** Fundamental package for numerical computing, especially arrays (`np`).\n",
    "* **SciPy:** Library for scientific and technical computing, building on NumPy (`scipy`). We heavily use `scipy.stats`, `scipy.special`, and `scipy.integrate`.\n",
    "* **Matplotlib:** Core plotting library (`plt`).\n",
    "* **Pandas:** Library for data manipulation and analysis (often used alongside NumPy, `pd`). While not the primary focus, it's useful for handling datasets in examples.\n",
    "\n",
    "**Seaborn**, a visualization library based on Matplotlib that provides a high-level interface for drawing attractive statistical graphics (`sns`), might sometimes need to be installed separately.\n",
    "\n",
    "**Checking and Installing Libraries:**\n",
    "\n",
    "1.  **Using Conda (Recommended with Anaconda):**\n",
    "    Open Anaconda Prompt or Terminal and use `conda install`:\n",
    "    ```bash\n",
    "    conda install numpy scipy matplotlib pandas seaborn\n",
    "    ```\n",
    "    Conda will check if the packages are installed and update them or install them if missing.\n",
    "\n",
    "2.  **Using Pip (Alternative):**\n",
    "    If you are not using Anaconda or prefer pip:\n",
    "    ```bash\n",
    "    pip install numpy scipy matplotlib pandas seaborn\n",
    "    ```\n",
    "    *Note: It's generally recommended to stick to one package manager (`conda` or `pip`) within a single environment to avoid potential conflicts.*\n",
    "\n",
    "**Verification:**\n",
    "\n",
    "The best way to verify is to create a new Jupyter Notebook and run the following code cell. If it executes without any `ImportError` messages, your core libraries are ready.\n"
   ]
  },
  {
   "cell_type": "code",
   "execution_count": 1,
   "id": "f4d2d216",
   "metadata": {},
   "outputs": [
    {
     "name": "stdout",
     "output_type": "stream",
     "text": [
      "Python version: 3.11.10\n",
      "NumPy version: 1.26.4\n",
      "Pandas version: 2.2.2\n",
      "SciPy version: 1.14.1\n",
      "Matplotlib version: 3.9.2\n",
      "Seaborn version: 0.13.2\n",
      "\n",
      "Core libraries imported and basic functions tested successfully!\n"
     ]
    }
   ],
   "source": [
    "# Verification Cell: Import Core Libraries\n",
    "\n",
    "import math\n",
    "import platform # Moved import to the top\n",
    "import numpy as np\n",
    "import pandas as pd\n",
    "import scipy\n",
    "import scipy.stats as stats\n",
    "import scipy.special\n",
    "import scipy.integrate\n",
    "import matplotlib\n",
    "import matplotlib.pyplot as plt\n",
    "import seaborn as sns\n",
    "\n",
    "# Check versions (optional, but good for debugging)\n",
    "print(f\"Python version: {platform.python_version()}\") \n",
    "print(f\"NumPy version: {np.__version__}\")\n",
    "print(f\"Pandas version: {pd.__version__}\")\n",
    "print(f\"SciPy version: {scipy.__version__}\")\n",
    "print(f\"Matplotlib version: {matplotlib.__version__}\")\n",
    "print(f\"Seaborn version: {sns.__version__}\")\n",
    "\n",
    "# Basic functionality test\n",
    "try:\n",
    "    arr = np.array([1, 2, 3])\n",
    "    mean_val = np.mean(arr)\n",
    "    binom_prob = stats.binom.pmf(k=1, n=2, p=0.5)\n",
    "    plt.figure()\n",
    "    sns.histplot([1, 2, 2, 3, 3, 3])\n",
    "    plt.close() # Prevents plot from displaying here\n",
    "    print(\"\\nCore libraries imported and basic functions tested successfully!\")\n",
    "except Exception as e:\n",
    "    print(f\"\\nAn error occurred during testing: {e}\")\n",
    "    print(\"Please check your installations.\")"
   ]
  },
  {
   "cell_type": "markdown",
   "id": "14055d80",
   "metadata": {},
   "source": [
    "## 4. Getting the Book's Code\n",
    "\n",
    "All the Jupyter Notebooks containing the code examples and exercises for this book are available online, typically in a GitHub repository.\n",
    "\n",
    "* **Location:** Please refer to the Preface or the book's companion website for the exact URL of the GitHub repository (e.g., `https://github.com/snowch/learn_probability`).\n",
    "\n",
    "**How to Download:**\n",
    "\n",
    "1.  **Download ZIP:** The simplest way is often to navigate to the main page of the GitHub repository in your web browser and look for a green \"Code\" button. Clicking it usually reveals a \"Download ZIP\" option. Download the file and unzip it into a convenient location on your computer (e.g., the `ProbBook` folder you might have created earlier).\n",
    "2.  **Using Git (More Advanced):** If you are familiar with Git, you can clone the repository. Open your terminal or Anaconda Prompt, navigate to where you want to store the code, and run:\n",
    "    ```bash\n",
    "    git clone https://github.com/snowch/learn_probability.git\n",
    "    ```\n",
    "    This method makes it easier to get updates later using `git pull`.\n",
    "\n",
    "Once downloaded, you can launch JupyterLab or Jupyter Notebook from the directory containing the code, and you should see the `.ipynb` files ready to be opened."
   ]
  },
  {
   "cell_type": "markdown",
   "id": "2ae8e55a",
   "metadata": {},
   "source": [
    "## 5. Basic Troubleshooting\n",
    "\n",
    "If you encounter issues, here are a few common problems and suggestions:\n",
    "\n",
    "* **`command not found` (e.g., `python`, `jupyter`, `conda`):** This usually means Anaconda/Python is not in your system's PATH. Try using the `Anaconda Prompt` specifically, as it's pre-configured. If using a standard terminal, you might need to reinstall Anaconda (ensuring the 'Add to PATH' option is selected, if appropriate for your comfort level) or manually configure the PATH environment variable (consult Anaconda documentation).\n",
    "* **`ImportError: No module named 'some_library'`:** The specific library (e.g., `seaborn`) is not installed in the Python environment Jupyter is using. Use `conda install some_library` or `pip install some_library` in the Anaconda Prompt/Terminal. Make sure you install it in the same environment Jupyter is running from (usually the 'base' environment if you haven't created others).\n",
    "* **Code runs indefinitely or crashes:** Try restarting the Jupyter kernel (Kernel > Restart Kernel...). This often resolves issues caused by variables holding unexpected states.\n",
    "* **Plots not showing:** Ensure you have run `%matplotlib inline` (usually included at the start of notebooks) or check for specific errors in the plotting code.\n",
    "* **Permission Errors (conda/pip):** If you installed Anaconda system-wide, you might need administrator privileges to install new packages. Try running Anaconda Prompt 'as Administrator' (Windows) or using `sudo` (macOS/Linux, use with caution).\n",
    "* **Searching for Help:** Copy and paste the error message into a search engine like Google. Include terms like `python`, `jupyter`, `conda`, and the library name. Stack Overflow ([stackoverflow.com](https://stackoverflow.com)) is an excellent resource for programming-related errors.\n"
   ]
  },
  {
   "cell_type": "markdown",
   "id": "90ee5e56",
   "metadata": {},
   "source": [
    "## 6. Next Steps\n",
    "\n",
    "With your environment set up and verified, you are ready to dive into the world of probability with Python! You can now proceed to **Chapter 1: Introduction to Probability and Python Setup** to begin your hands-on journey.\n",
    "\n",
    "Make sure you can open and run the first few code cells in the Chapter 1 notebook provided with the book's materials. Happy coding and exploring!"
   ]
  }
 ],
 "metadata": {
  "kernelspec": {
   "display_name": "Python 3 (ipykernel)",
   "language": "python",
   "name": "python3"
  },
  "language_info": {
   "codemirror_mode": {
    "name": "ipython",
    "version": 3
   },
   "file_extension": ".py",
   "mimetype": "text/x-python",
   "name": "python",
   "nbconvert_exporter": "python",
   "pygments_lexer": "ipython3",
   "version": "3.11.10"
  },
  "toc": {
   "base_numbering": 1,
   "nav_menu": {},
   "number_sections": true,
   "sideBar": true,
   "skip_h1_title": false,
   "title_cell": "Table of Contents",
   "title_sidebar": "Contents",
   "toc_cell": false,
   "toc_position": {},
   "toc_section_display": true,
   "toc_window_display": false
  }
 },
 "nbformat": 4,
 "nbformat_minor": 5
}
