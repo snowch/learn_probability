{
 "cells": [
  {
   "cell_type": "markdown",
   "id": "4aaf6047",
   "metadata": {},
   "source": [
    "# Chapter 2: The Language of Probability: Sets, Sample Spaces, and Events"
   ]
  },
  {
   "cell_type": "markdown",
   "id": "56a9f48d",
   "metadata": {},
   "source": [
    "Welcome to Chapter 2! In the previous chapter, we introduced the 'why' of probability and set up our Python environment. Now, we dive into the fundamental vocabulary and concepts that form the bedrock of probability theory. Understanding these core ideas – sample spaces, events, and the rules governing them – is crucial before we can tackle more complex problems and distributions. We'll use set theory as our language and Python to make these abstract concepts tangible."
   ]
  },
  {
   "cell_type": "markdown",
   "id": "4999a398",
   "metadata": {},
   "source": [
    "## Learning Objectives\n",
    "* Understand and define experiments, outcomes, and sample spaces.\n",
    "* Distinguish between discrete and continuous sample spaces.\n",
    "* Define events as subsets of the sample space.\n",
    "* Review basic set operations (union, intersection, complement) and their relevance to probability.\n",
    "* Grasp the fundamental Axioms of Probability.\n",
    "* Apply basic probability rules like the Complement and Addition rules.\n",
    "* Use Python sets and lists to represent sample spaces and events.\n",
    "* Calculate empirical probabilities through simulation."
   ]
  },
  {
   "cell_type": "markdown",
   "id": "1cb07767",
   "metadata": {},
   "source": [
    "## Experiments, Outcomes, Sample Spaces"
   ]
  },
  {
   "cell_type": "markdown",
   "id": "2d9b4798",
   "metadata": {},
   "source": [
    "In probability, an **experiment** is any procedure or process that can be repeated infinitely (in theory) and has a well-defined set of possible results. Think of flipping a coin, rolling a die, measuring a patient's temperature, or recording the time it takes for a website to load."
   ]
  },
  {
   "cell_type": "markdown",
   "id": "123dc333",
   "metadata": {},
   "source": [
    "Each possible result of an experiment is called an **outcome**.\n",
    "* For flipping a coin, the outcomes are Heads (H) or Tails (T).\n",
    "* For rolling a standard six-sided die, the outcomes are the integers 1, 2, 3, 4, 5, 6.\n",
    "* For measuring temperature, an outcome could be 37.2°C.\n",
    "* For website load time, an outcome could be 1.34 seconds."
   ]
  },
  {
   "cell_type": "markdown",
   "id": "e828961a",
   "metadata": {},
   "source": [
    "The **sample space**, often denoted by $S$ or $\\Omega$ (Omega), is the set of *all possible* outcomes of an experiment."
   ]
  },
  {
   "cell_type": "markdown",
   "id": "707da4d8",
   "metadata": {},
   "source": [
    "### Discrete vs. Continuous Sample Spaces"
   ]
  },
  {
   "cell_type": "markdown",
   "id": "0c3d527e",
   "metadata": {},
   "source": [
    "Sample spaces can be categorized based on the nature of their outcomes:"
   ]
  },
  {
   "cell_type": "markdown",
   "id": "2525e739",
   "metadata": {},
   "source": [
    "1.  **Discrete Sample Space:** Contains a finite or countably infinite number of outcomes. The outcomes can be listed.\n",
    "    * **Example (Finite):** Rolling a standard six-sided die. The sample space is $S = \\{1, 2, 3, 4, 5, 6\\}$.\n",
    "    * **Example (Countably Infinite):** Flipping a coin until the first Head appears. The sample space is $S = \\{H, TH, TTH, TTTH, ...\\}$. Although infinite, we can map each outcome to a positive integer (1st flip, 2nd flip, 3rd flip, etc.)."
   ]
  },
  {
   "cell_type": "markdown",
   "id": "ab8b6c4b",
   "metadata": {},
   "source": [
    "2.  **Continuous Sample Space:** Contains an infinite number of outcomes that form a continuum. The outcomes cannot be listed individually because there are infinitely many possibilities between any two given outcomes.\n",
    "    * **Example:** Measuring the exact height of a randomly selected adult. The sample space might be all real numbers between 0.5 meters and 3.0 meters, $S = \\{h \\in \\mathbb{R} \\mid 0.5 \\le h \\le 3.0\\}$.\n",
    "    * **Example:** Recording the time until a component fails. $S = \\{t \\in \\mathbb{R} \\mid t \\ge 0\\}$."
   ]
  },
  {
   "cell_type": "markdown",
   "id": "efcb4e08",
   "metadata": {},
   "source": [
    "**Python Representation (Discrete):**\n",
    "We can easily represent finite discrete sample spaces using Python sets or lists. Sets are often conceptually closer as they inherently handle uniqueness and order doesn't matter."
   ]
  },
  {
   "cell_type": "code",
   "execution_count": 1,
   "id": "fb9055fb",
   "metadata": {},
   "outputs": [
    {
     "name": "stdout",
     "output_type": "stream",
     "text": [
      "Sample space (Die): {1, 2, 3, 4, 5, 6}\n",
      "Sample space (Coin): {'Tails', 'Heads'}\n"
     ]
    }
   ],
   "source": [
    "# Sample space for rolling a single six-sided die\n",
    "sample_space_die = {1, 2, 3, 4, 5, 6}\n",
    "\n",
    "# Sample space for flipping a coin\n",
    "sample_space_coin = {'Heads', 'Tails'}\n",
    "\n",
    "print(f\"Sample space (Die): {sample_space_die}\")\n",
    "print(f\"Sample space (Coin): {sample_space_coin}\")"
   ]
  },
  {
   "cell_type": "markdown",
   "id": "ed760388",
   "metadata": {},
   "source": [
    "## Events as Subsets"
   ]
  },
  {
   "cell_type": "markdown",
   "id": "0e9927c3",
   "metadata": {},
   "source": [
    "An **event** is any subset of the sample space. It represents a specific outcome or a collection of outcomes of interest. Events are usually denoted by capital letters (A, B, E, etc.)."
   ]
  },
  {
   "cell_type": "markdown",
   "id": "a54bdc28",
   "metadata": {},
   "source": [
    "* **Experiment:** Rolling a die ($S = \\{1, 2, 3, 4, 5, 6\\}$)\n",
    "    * **Event A:** Rolling an even number. $A = \\{2, 4, 6\\}$. Note that $A \\subseteq S$.\n",
    "    * **Event B:** Rolling a number greater than 4. $B = \\{5, 6\\}$. Note that $B \\subseteq S$.\n",
    "    * **Event C:** Rolling a 3. $C = \\{3\\}$. Simple event (contains only one outcome).\n",
    "    * **Event D:** Rolling a number less than 10. $D = \\{1, 2, 3, 4, 5, 6\\} = S$. This is the certain event.\n",
    "    * **Event E:** Rolling a 7. $E = \\{\\}$ or $\\emptyset$. This is the impossible event (the empty set)."
   ]
  },
  {
   "cell_type": "markdown",
   "id": "dc7023fb",
   "metadata": {},
   "source": [
    "**Python Representation:**\n",
    "Events, being subsets, can also be represented using Python sets."
   ]
  },
  {
   "cell_type": "code",
   "execution_count": 2,
   "id": "eff4c47e",
   "metadata": {},
   "outputs": [
    {
     "name": "stdout",
     "output_type": "stream",
     "text": [
      "Is A a subset of S? True\n",
      "Is B a subset of S? True\n",
      "Event A: {2, 4, 6}\n",
      "Event B: {5, 6}\n"
     ]
    }
   ],
   "source": [
    "# Continuing the die roll example\n",
    "S = {1, 2, 3, 4, 5, 6}\n",
    "\n",
    "# Event A: Rolling an even number\n",
    "A = {2, 4, 6}\n",
    "\n",
    "# Event B: Rolling a number greater than 4\n",
    "B = {5, 6}\n",
    "\n",
    "# Check if they are subsets of S\n",
    "print(f\"Is A a subset of S? {A.issubset(S)}\")\n",
    "print(f\"Is B a subset of S? {B.issubset(S)}\")\n",
    "print(f\"Event A: {A}\")\n",
    "print(f\"Event B: {B}\")"
   ]
  },
  {
   "cell_type": "markdown",
   "id": "85f51bb0",
   "metadata": {},
   "source": [
    "## Set Theory Refresher"
   ]
  },
  {
   "cell_type": "markdown",
   "id": "b99c8fb4",
   "metadata": {},
   "source": [
    "Since events are sets, the language and operations of set theory are fundamental to probability. Let A and B be two events in a sample space S."
   ]
  },
  {
   "cell_type": "markdown",
   "id": "820ae511",
   "metadata": {},
   "source": [
    "1.  **Union ($A \\cup B$):** The set of outcomes that are in A, or in B, or in both. Corresponds to the logical 'OR'.\n",
    "    * *Example:* For the die roll, $A \\cup B$ = \"Rolling an even number OR a number greater than 4\" = $\\{2, 4, 5, 6\\}$."
   ]
  },
  {
   "cell_type": "markdown",
   "id": "80b9b28d",
   "metadata": {},
   "source": [
    "2.  **Intersection ($A \\cap B$):** The set of outcomes that are in *both* A and B. Corresponds to the logical 'AND'.\n",
    "    * *Example:* For the die roll, $A \\cap B$ = \"Rolling an even number AND a number greater than 4\" = $\\{6\\}$."
   ]
  },
  {
   "cell_type": "markdown",
   "id": "0d5119e6",
   "metadata": {},
   "source": [
    "3.  **Complement ($A'$ or $A^c$):** The set of outcomes in the sample space S that are *not* in A. Corresponds to the logical 'NOT'.\n",
    "    * *Example:* For the die roll, $A'$ = \"NOT rolling an even number\" = \"Rolling an odd number\" = $\\{1, 3, 5\\}$."
   ]
  },
  {
   "cell_type": "markdown",
   "id": "1d1c0835",
   "metadata": {},
   "source": [
    "**Disjoint Events:** Two events A and B are **disjoint** or **mutually exclusive** if they have no outcomes in common, i.e., their intersection is the empty set ($A \\cap B = \\emptyset$).\n",
    "* *Example:* The event \"Rolling an even number\" (A={2,4,6}) and the event \"Rolling an odd number\" (A'={1,3,5}) are disjoint. The event \"Rolling a 1\" ({1}) and \"Rolling a 6\" ({6}) are disjoint."
   ]
  },
  {
   "cell_type": "markdown",
   "id": "43d02c3a",
   "metadata": {},
   "source": [
    "**Venn Diagrams:** These are useful visual aids. The sample space S is represented by a rectangle, and events are represented by circles or shapes within it. Overlapping areas show intersections, and the area outside a circle represents its complement."
   ]
  },
  {
   "cell_type": "markdown",
   "id": "cb5b2bac",
   "metadata": {},
   "source": [
    "(We won't draw Venn diagrams directly in code here, but libraries like `matplotlib_venn` can be used for this. Conceptually, imagine S as a box containing numbers 1-6. Circle A encloses 2, 4, 6. Circle B encloses 5, 6. The overlap contains only 6. The area outside A contains 1, 3, 5.)"
   ]
  },
  {
   "cell_type": "markdown",
   "id": "b69c8020",
   "metadata": {},
   "source": [
    "**Python Set Operations:**"
   ]
  },
  {
   "cell_type": "code",
   "execution_count": 3,
   "id": "84c6fb25",
   "metadata": {},
   "outputs": [
    {
     "name": "stdout",
     "output_type": "stream",
     "text": [
      "A union B: {2, 4, 5, 6}\n",
      "A intersection B: {6}\n",
      "Complement of A: {1, 3, 5}\n",
      "Is complement of A equal to C? True\n",
      "A intersection C: set()\n",
      "Are A and C disjoint? True\n"
     ]
    }
   ],
   "source": [
    "S = {1, 2, 3, 4, 5, 6}\n",
    "A = {2, 4, 6}  # Even numbers\n",
    "B = {5, 6}     # Numbers > 4\n",
    "C = {1, 3, 5}  # Odd numbers (A's complement)\n",
    "\n",
    "# Union (A or B)\n",
    "union_AB = A.union(B)\n",
    "print(f\"A union B: {union_AB}\") # Corresponds to {2, 4, 5, 6}\n",
    "\n",
    "# Intersection (A and B)\n",
    "intersection_AB = A.intersection(B)\n",
    "print(f\"A intersection B: {intersection_AB}\") # Corresponds to {6}\n",
    "\n",
    "# Complement of A (relative to S)\n",
    "complement_A = S.difference(A)\n",
    "print(f\"Complement of A: {complement_A}\") # Corresponds to {1, 3, 5}\n",
    "print(f\"Is complement of A equal to C? {complement_A == C}\")\n",
    "\n",
    "# Check for disjoint events (A and C)\n",
    "intersection_AC = A.intersection(C)\n",
    "print(f\"A intersection C: {intersection_AC}\") # Corresponds to {}\n",
    "print(f\"Are A and C disjoint? {intersection_AC == set()}\") # Empty set means disjoint"
   ]
  },
  {
   "cell_type": "markdown",
   "id": "28854efe",
   "metadata": {},
   "source": [
    "## Axioms of Probability"
   ]
  },
  {
   "cell_type": "markdown",
   "id": "55df239c",
   "metadata": {},
   "source": [
    "The entire structure of probability theory is built upon three fundamental axioms, proposed by Andrey Kolmogorov. Let S be a sample space, and P(A) denote the probability of an event A."
   ]
  },
  {
   "cell_type": "markdown",
   "id": "fada0f22",
   "metadata": {},
   "source": [
    "1.  **Non-negativity:** For any event A, the probability of A is greater than or equal to zero.\n",
    "    $$P(A) \\ge 0$$\n",
    "    Probabilities cannot be negative."
   ]
  },
  {
   "cell_type": "markdown",
   "id": "16991763",
   "metadata": {},
   "source": [
    "2.  **Normalization:** The probability of the entire sample space S is equal to 1.\n",
    "    $$P(S) = 1$$\n",
    "    This means that *some* outcome within the realm of possibility *must* occur. The maximum possible probability is 1."
   ]
  },
  {
   "cell_type": "markdown",
   "id": "5a545182",
   "metadata": {},
   "source": [
    "3.  **Additivity for Disjoint Events:** If $A_1, A_2, A_3, ...$ is a sequence of *mutually exclusive* (disjoint) events (i.e., $A_i \\cap A_j = \\emptyset$ for all $i \\ne j$), then the probability of their union is the sum of their individual probabilities:\n",
    "    $$P(A_1 \\cup A_2 \\cup A_3 \\cup ...) = P(A_1) + P(A_2) + P(A_3) + ...$$\n",
    "    For a finite number of disjoint events, say A and B, this simplifies to: If $A \\cap B = \\emptyset$, then $P(A \\cup B) = P(A) + P(B)$."
   ]
  },
  {
   "cell_type": "markdown",
   "id": "d7d500b1",
   "metadata": {},
   "source": [
    "**Examples based on the axioms:**"
   ]
  },
  {
   "cell_type": "markdown",
   "id": "cbe2517a",
   "metadata": {},
   "source": [
    "* **Experiment:** Rolling a fair six-sided die ($S = \\{1, 2, 3, 4, 5, 6\\}$). Assuming fairness, each outcome has probability 1/6.\n",
    "* $P(\\{1\\}) = 1/6 \\ge 0$, $P(\\{2\\}) = 1/6 \\ge 0$, etc. (Axiom 1)\n",
    "* The event \"Roll < 7\" is $D = \\{1, 2, 3, 4, 5, 6\\} = S$.\n",
    "    $P(D) = P(S) = P(\\{1\\} \\cup \\{2\\} \\cup ... \\cup \\{6\\})$. Since these are disjoint events, by Axiom 3:\n",
    "    $P(S) = P(\\{1\\}) + P(\\{2\\}) + ... + P(\\{6\\}) = 1/6 + 1/6 + 1/6 + 1/6 + 1/6 + 1/6 = 6/6 = 1$. (Axiom 2 satisfied).\n",
    "* The event \"Roll > 6\" is $E = \\emptyset$. What is $P(E)$?\n",
    "    We know $S \\cup \\emptyset = S$. Also, S and $\\emptyset$ are disjoint. By Axiom 3, $P(S \\cup \\emptyset) = P(S) + P(\\emptyset)$.\n",
    "    So, $P(S) = P(S) + P(\\emptyset)$. This implies $P(\\emptyset) = 0$. The probability of an impossible event is 0.\n",
    "    So, $P(\\text{Roll > 6}) = P(\\emptyset) = 0$."
   ]
  },
  {
   "cell_type": "markdown",
   "id": "14f59cd8",
   "metadata": {},
   "source": [
    "## Basic Probability Rules"
   ]
  },
  {
   "cell_type": "markdown",
   "id": "9060c3ac",
   "metadata": {},
   "source": [
    "Several useful rules can be derived directly from the axioms:"
   ]
  },
  {
   "cell_type": "markdown",
   "id": "47e3336f",
   "metadata": {},
   "source": [
    "1.  **Probability Range:** For any event A, $0 \\le P(A) \\le 1$.\n",
    "    (Follows from Axioms 1 & 2 and $A \\subseteq S$)."
   ]
  },
  {
   "cell_type": "markdown",
   "id": "4e5b44ec",
   "metadata": {},
   "source": [
    "2.  **Complement Rule:** The probability that event A does *not* occur is 1 minus the probability that it *does* occur.\n",
    "    $$P(A') = 1 - P(A)$$\n",
    "    * **Derivation:**\n",
    "    A and A' are disjoint ($A \\cap A' = \\emptyset$) and their union is the entire sample space ($A \\cup A' = S$). By Axiom 3, $P(A \\cup A') = P(A) + P(A')$. By Axiom 2, $P(S) = 1$. Therefore, $P(A) + P(A') = 1$, which rearranges to the rule.\n",
    "    * **Example:** What is the probability of *not* rolling a 6?\n",
    "        Let $A = \\{6\\}$, so $P(A) = 1/6$.\n",
    "        $A'$ = \"not rolling a 6\" = $\\{1, 2, 3, 4, 5\\}$.\n",
    "        $P(A') = 1 - P(A) = 1 - 1/6 = 5/6$."
   ]
  },
  {
   "cell_type": "markdown",
   "id": "ae8ed5b3",
   "metadata": {},
   "source": [
    "3.  **Addition Rule (General):** For any two events A and B (not necessarily disjoint), the probability that A *or* B (or both) occurs is:\n",
    "    $$P(A \\cup B) = P(A) + P(B) - P(A \\cap B)$$\n",
    "    * **Intuition:** If we simply add P(A) and P(B), we have double-counted the probability of the outcomes that are in *both* A and B (the intersection). So, we subtract $P(A \\cap B)$ to correct for this. If A and B are disjoint, $A \\cap B = \\emptyset$ and $P(A \\cap B) = 0$, which reduces this rule to Axiom 3 for two events.\n",
    "    * **Example:** What is the probability of rolling an even number (A={2,4,6}) or a number greater than 4 (B={5,6})?\n",
    "        $P(A) = 3/6 = 1/2$\n",
    "        $P(B) = 2/6 = 1/3$\n",
    "        The intersection is $A \\cap B = \\{6\\}$, so $P(A \\cap B) = 1/6$.\n",
    "        Using the Addition Rule:\n",
    "        $P(A \\cup B) = P(A) + P(B) - P(A \\cap B) = 3/6 + 2/6 - 1/6 = 4/6 = 2/3$.\n",
    "        Let's check the outcomes in $A \\cup B = \\{2, 4, 5, 6\\}$. There are 4 outcomes, each with probability 1/6. So the total probability is indeed $4 \\times (1/6) = 4/6 = 2/3$. It works!"
   ]
  },
  {
   "cell_type": "markdown",
   "id": "c1201d31",
   "metadata": {},
   "source": [
    "## Hands-on Python Practice"
   ]
  },
  {
   "cell_type": "markdown",
   "id": "45105c75",
   "metadata": {},
   "source": [
    "Let's use Python to solidify these concepts through simulation. We often don't know the theoretical probabilities beforehand, or the situation is too complex to calculate. Simulation allows us to *estimate* probabilities by running the experiment many times and observing the outcomes. This estimated probability is called the **empirical probability**."
   ]
  },
  {
   "cell_type": "markdown",
   "id": "a2bce4ab",
   "metadata": {},
   "source": [
    "**Empirical Probability:**\n",
    "$$P_{empirical}(A) = \\frac{\\text{Number of times event A occurred}}{\\text{Total number of trials}}$$\n",
    "The Law of Large Numbers (which we'll study later) tells us that as the number of trials increases, the empirical probability converges to the true theoretical probability."
   ]
  },
  {
   "cell_type": "markdown",
   "id": "1b4347e2",
   "metadata": {},
   "source": [
    "**Setup:** We'll need NumPy for efficient random number generation."
   ]
  },
  {
   "cell_type": "code",
   "execution_count": 4,
   "id": "6552f322",
   "metadata": {},
   "outputs": [],
   "source": [
    "import numpy as np\n",
    "import matplotlib.pyplot as plt\n",
    "import seaborn as sns\n",
    "\n",
    "# Configure plots for better readability\n",
    "sns.set(style=\"whitegrid\")"
   ]
  },
  {
   "cell_type": "markdown",
   "id": "19d8ea09",
   "metadata": {},
   "source": [
    "### 1. Representing Sample Spaces and Events"
   ]
  },
  {
   "cell_type": "markdown",
   "id": "8771a392",
   "metadata": {},
   "source": [
    "We've already seen how to use Python sets. Let's reiterate for a coin flip."
   ]
  },
  {
   "cell_type": "code",
   "execution_count": 5,
   "id": "ce4ff9c5",
   "metadata": {},
   "outputs": [
    {
     "name": "stdout",
     "output_type": "stream",
     "text": [
      "Sample Space (Coin): {'H', 'T'}\n",
      "Event (Heads): {'H'}\n",
      "Is Heads an event in S_coin? True\n"
     ]
    }
   ],
   "source": [
    "# Sample Space\n",
    "S_coin = {'H', 'T'} # Using H for Heads, T for Tails\n",
    "\n",
    "# Events\n",
    "E_heads = {'H'}\n",
    "E_tails = {'T'}\n",
    "\n",
    "print(f\"Sample Space (Coin): {S_coin}\")\n",
    "print(f\"Event (Heads): {E_heads}\")\n",
    "print(f\"Is Heads an event in S_coin? {E_heads.issubset(S_coin)}\")"
   ]
  },
  {
   "cell_type": "markdown",
   "id": "5c034d89",
   "metadata": {},
   "source": [
    "### 2. Simulating Simple Experiments"
   ]
  },
  {
   "cell_type": "markdown",
   "id": "f710587c",
   "metadata": {},
   "source": [
    "Let's simulate rolling a fair six-sided die many times."
   ]
  },
  {
   "cell_type": "code",
   "execution_count": 6,
   "id": "e7728a6b",
   "metadata": {},
   "outputs": [
    {
     "name": "stdout",
     "output_type": "stream",
     "text": [
      "First 20 rolls: [1 6 4 5 5 1 6 4 5 4 4 3 4 2 4 6 3 4 4 4]\n",
      "Total rolls simulated: 1000\n"
     ]
    }
   ],
   "source": [
    "# Simulate 1000 dice rolls\n",
    "num_rolls = 1000\n",
    "rolls = np.random.randint(1, 7, size=num_rolls) # Generate random integers between 1 (inclusive) and 7 (exclusive)\n",
    "\n",
    "# Display the first 20 rolls\n",
    "print(f\"First 20 rolls: {rolls[:20]}\")\n",
    "print(f\"Total rolls simulated: {len(rolls)}\")"
   ]
  },
  {
   "cell_type": "markdown",
   "id": "312369e8",
   "metadata": {},
   "source": [
    "### 3. Calculating Empirical Probabilities"
   ]
  },
  {
   "cell_type": "markdown",
   "id": "2446e48e",
   "metadata": {},
   "source": [
    "**Example:** What is the empirical probability of rolling a number greater than 4?\n",
    "\n",
    "Theoretical answer: Event $B = \\{5, 6\\}$. $P(B) = 2/6 = 1/3 \\approx 0.333$."
   ]
  },
  {
   "cell_type": "code",
   "execution_count": 7,
   "id": "1a221c39",
   "metadata": {},
   "outputs": [
    {
     "name": "stdout",
     "output_type": "stream",
     "text": [
      "Number of rolls > 4: 335\n",
      "Total rolls: 1000\n",
      "Empirical P(Roll > 4): 0.3350\n",
      "Theoretical P(Roll > 4): 0.3333\n"
     ]
    }
   ],
   "source": [
    "# Define the event B: rolling > 4\n",
    "# We can count how many rolls satisfy this condition\n",
    "outcomes_greater_than_4 = rolls[rolls > 4]\n",
    "num_success = len(outcomes_greater_than_4)\n",
    "\n",
    "# Calculate empirical probability\n",
    "empirical_prob_B = num_success / num_rolls\n",
    "\n",
    "print(f\"Number of rolls > 4: {num_success}\")\n",
    "print(f\"Total rolls: {num_rolls}\")\n",
    "print(f\"Empirical P(Roll > 4): {empirical_prob_B:.4f}\")\n",
    "print(f\"Theoretical P(Roll > 4): {1/3:.4f}\")"
   ]
  },
  {
   "cell_type": "markdown",
   "id": "a469969a",
   "metadata": {},
   "source": [
    "Try running the simulation cell (the one with `np.random.randint`) and the calculation cell again. You'll notice the empirical probability fluctuates slightly but should remain close to the theoretical value, especially with a large `num_rolls`."
   ]
  },
  {
   "cell_type": "markdown",
   "id": "8c7c6568",
   "metadata": {},
   "source": [
    "**Example:** What is the empirical probability of rolling an even number?\n",
    "\n",
    "Theoretical answer: Event $A = \\{2, 4, 6\\}$. $P(A) = 3/6 = 0.5$."
   ]
  },
  {
   "cell_type": "code",
   "execution_count": 8,
   "id": "a57568f2",
   "metadata": {},
   "outputs": [
    {
     "name": "stdout",
     "output_type": "stream",
     "text": [
      "Number of even rolls: 488\n",
      "Total rolls: 1000\n",
      "Empirical P(Roll is Even): 0.4880\n",
      "Theoretical P(Roll is Even): 0.5000\n"
     ]
    }
   ],
   "source": [
    "# Event A: rolling an even number\n",
    "# An outcome is even if outcome % 2 == 0\n",
    "outcomes_even = rolls[rolls % 2 == 0]\n",
    "num_even = len(outcomes_even)\n",
    "\n",
    "# Calculate empirical probability\n",
    "empirical_prob_A = num_even / num_rolls\n",
    "\n",
    "print(f\"Number of even rolls: {num_even}\")\n",
    "print(f\"Total rolls: {num_rolls}\")\n",
    "print(f\"Empirical P(Roll is Even): {empirical_prob_A:.4f}\")\n",
    "print(f\"Theoretical P(Roll is Even): {0.5:.4f}\")"
   ]
  },
  {
   "cell_type": "markdown",
   "id": "d50d905f",
   "metadata": {},
   "source": [
    "### 4. Visualizing Events and Outcomes"
   ]
  },
  {
   "cell_type": "markdown",
   "id": "8e8c4548",
   "metadata": {},
   "source": [
    "We can use histograms to visualize the distribution of outcomes from our simulation."
   ]
  },
  {
   "cell_type": "code",
   "execution_count": 9,
   "id": "e751cb1b",
   "metadata": {},
   "outputs": [
    {
     "data": {
      "image/png": "[encoded data removed]",
      "text/plain": [
       "<Figure size 800x500 with 1 Axes>"
      ]
     },
     "metadata": {},
     "output_type": "display_data"
    }
   ],
   "source": [
    "# Plotting the frequency of each outcome\n",
    "plt.figure(figsize=(8, 5))\n",
    "sns.countplot(x=rolls, order=[1, 2, 3, 4, 5, 6], color='skyblue')\n",
    "plt.title(f'Frequency of Outcomes for {num_rolls} Die Rolls')\n",
    "plt.xlabel('Die Face')\n",
    "plt.ylabel('Frequency Count')\n",
    "\n",
    "# Add a line for the expected frequency for a fair die\n",
    "expected_frequency = num_rolls / 6\n",
    "plt.axhline(expected_frequency, color='red', linestyle='--', label=f'Expected Frequency ({expected_frequency:.1f})')\n",
    "plt.legend()\n",
    "\n",
    "plt.show()"
   ]
  },
  {
   "cell_type": "markdown",
   "id": "2872e0b3",
   "metadata": {},
   "source": [
    "The histogram shows the counts for each outcome (1 through 6). For a fair die and a large number of rolls, we expect the bars to be roughly the same height, close to the theoretical expected frequency (total rolls / 6)."
   ]
  },
  {
   "cell_type": "markdown",
   "id": "fd5cd23b",
   "metadata": {},
   "source": [
    "We can also visualize the outcomes that constitute a specific event. For instance, let's highlight the rolls that were greater than 4."
   ]
  },
  {
   "cell_type": "code",
   "execution_count": 10,
   "id": "567691d1",
   "metadata": {},
   "outputs": [
    {
     "name": "stdout",
     "output_type": "stream",
     "text": [
      "Roll | > 4?\n",
      "----|----\n",
      "1   | False\n",
      "6   | True\n",
      "4   | False\n",
      "5   | True\n",
      "5   | True\n",
      "1   | False\n",
      "6   | True\n",
      "4   | False\n",
      "5   | True\n",
      "4   | False\n",
      "4   | False\n",
      "3   | False\n",
      "4   | False\n",
      "2   | False\n",
      "4   | False\n",
      "\n",
      "From the simulation:\n",
      "- The event 'Roll > 4' (outcomes (5, 6)) occurred 335 times.\n",
      "- The empirical probability is 0.3350\n"
     ]
    }
   ],
   "source": [
    "# Create a boolean mask for the event\n",
    "event_mask_B = rolls > 4 # True if roll > 4, False otherwise\n",
    "\n",
    "# Simple textual visualization: show rolls and whether they met the condition\n",
    "print(\"Roll | > 4?\")\n",
    "print(\"----|----\")\n",
    "for i in range(15): # Show first 15\n",
    "    print(f\"{rolls[i]:<4}| {event_mask_B[i]}\")\n",
    "\n",
    "# Highlight on a plot (can be more complex, here just re-emphasize the count)\n",
    "print(f\"\\nFrom the simulation:\")\n",
    "print(f\"- The event 'Roll > 4' (outcomes {5, 6}) occurred {num_success} times.\")\n",
    "print(f\"- The empirical probability is {empirical_prob_B:.4f}\")"
   ]
  },
  {
   "cell_type": "markdown",
   "id": "f15a27b0",
   "metadata": {},
   "source": [
    "## Chapter Summary"
   ]
  },
  {
   "cell_type": "markdown",
   "id": "b83feb43",
   "metadata": {},
   "source": [
    "This chapter introduced the basic language of probability theory, grounded in set theory.\n",
    "* We defined **experiments**, **outcomes**, and **sample spaces** (discrete and continuous).\n",
    "* We conceptualized **events** as subsets of the sample space.\n",
    "* We reviewed set operations (**union, intersection, complement**) and how they relate to combining or modifying events.\n",
    "* We established the foundational **Axioms of Probability** (Non-negativity, Normalization, Additivity).\n",
    "* We derived essential rules like the **Complement Rule** and the **Addition Rule**.\n",
    "* Crucially, we used Python to represent these concepts (using `sets` and `numpy`) and performed simulations to calculate **empirical probabilities**, comparing them to theoretical values."
   ]
  },
  {
   "cell_type": "markdown",
   "id": "b4663b47",
   "metadata": {},
   "source": [
    "Understanding this vocabulary and these basic rules is essential. In the next chapter, we will build upon this foundation by learning systematic ways to count the number of outcomes in sample spaces and events, which is often necessary for calculating theoretical probabilities, especially when outcomes are equally likely.s"
   ]
  }
 ],
 "metadata": {
  "jupytext": {
   "encoding": "# -*- coding: utf-8 -*-"
  },
  "kernelspec": {
   "display_name": "Python 3 (ipykernel)",
   "language": "python",
   "name": "python3"
  },
  "language_info": {
   "codemirror_mode": {
    "name": "ipython",
    "version": 3
   },
   "file_extension": ".py",
   "mimetype": "text/x-python",
   "name": "python",
   "nbconvert_exporter": "python",
   "pygments_lexer": "ipython3",
   "version": "3.11.10"
  }
 },
 "nbformat": 4,
 "nbformat_minor": 5
}
