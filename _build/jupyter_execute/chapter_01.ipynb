{
 "cells": [
  {
   "cell_type": "markdown",
   "id": "93db5450",
   "metadata": {},
   "source": [
    "# Chapter 1: Introduction to Probability and Python Setup\n",
    "\n",
    "Welcome to \"Probability in Practice: A Hands-On Journey with Python\"! This first chapter lays the groundwork for our exploration. We'll start by understanding what probability is and why it's such a fundamental concept in so many fields. Then, we'll introduce the essential Python tools we'll be using throughout the book and guide you through setting up your environment and performing some basic operations."
   ]
  },
  {
   "cell_type": "markdown",
   "id": "0447b6aa",
   "metadata": {},
   "source": [
    "## 1.1 What is Probability? Why is it important?\n",
    "\n",
    "At its core, **probability** is the mathematical language we use to describe and quantify **uncertainty**. It's a way of measuring the likelihood or chance that a specific event will occur out of a set of possible outcomes. We express probability as a number between 0 and 1, inclusive:\n",
    "\n",
    "* A probability of **0** means the event is impossible.\n",
    "* A probability of **1** means the event is certain.\n",
    "* A probability between 0 and 1 indicates varying degrees of likelihood (e.g., 0.5 means a 50% chance, like a fair coin landing on heads).\n",
    "\n",
    "**Why is probability important?**\n",
    "\n",
    "Uncertainty is inherent in almost every aspect of the world around us. Probability provides a systematic way to reason about, model, and make decisions in the face of this uncertainty. Its applications are vast and span numerous domains:\n",
    "\n",
    "* **Science:** Modeling quantum mechanics, predicting experimental outcomes, analyzing genetic inheritance.\n",
    "* **Engineering:** Assessing structural integrity under stress, designing reliable systems, managing communication network traffic.\n",
    "* **Finance & Economics:** Pricing options and derivatives, managing investment portfolios, forecasting market movements, assessing credit risk.\n",
    "* **Medicine:** Evaluating the effectiveness of new treatments, understanding disease transmission, interpreting diagnostic tests.\n",
    "* **Machine Learning & AI:** Building spam filters, training predictive models, designing recommendation systems, quantifying model confidence.\n",
    "* **Gaming & Gambling:** Calculating odds, developing game strategies.\n",
    "* **Everyday Life:** Making weather predictions, deciding whether to buy insurance, understanding opinion polls.\n",
    "\n",
    "**Example:** Imagine a company considering launching a new product. Market research data provides insights, but it's not definitive. Probability helps quantify the risk. Based on survey results, competitor analysis, and economic forecasts, the company might estimate:\n",
    "    * P(High Success) = 0.2 (20% chance of high sales)\n",
    "    * P(Moderate Success) = 0.5 (50% chance of moderate sales)\n",
    "    * P(Failure) = 0.3 (30% chance of failure)\n",
    "\n",
    "These probabilities, combined with potential profits/losses for each scenario, allow the company to make a more informed decision about whether the potential reward justifies the risk.\n",
    "\n",
    "Throughout this book, we'll see how probability allows us to move from vague intuition about uncertainty to precise, quantitative analysis, often aided by the computational power of Python."
   ]
  },
  {
   "cell_type": "markdown",
   "id": "5249669d",
   "metadata": {},
   "source": [
    "## 1.2 Introduction to the Tools\n",
    "\n",
    "To embark on our hands-on journey, we need the right tools. We'll primarily use Python along with several powerful libraries designed for scientific computing, data analysis, and visualization.\n",
    "\n",
    "1.  **Python:** A versatile, high-level programming language known for its readability and extensive ecosystem of libraries. It's an excellent choice for both learning concepts and implementing practical applications.\n",
    "\n",
    "2.  **Jupyter Notebooks:** An interactive computing environment that allows you to create and share documents containing live code, equations, visualizations, and narrative text. They are perfect for exploratory analysis, learning step-by-step, and presenting results. We'll be using Jupyter Notebooks (or compatible environments like JupyterLab, Google Colab, VS Code Notebooks) for all our examples.\n",
    "\n",
    "3.  **NumPy (Numerical Python):** The fundamental package for numerical computation in Python. It provides:\n",
    "    * A powerful N-dimensional array object (`ndarray`).\n",
    "    * Functions for mathematical operations, linear algebra, random number generation, and more.\n",
    "    * The foundation upon which many other scientific libraries are built.\n",
    "    * **Example:** Simulating 10 coin flips (0 for tails, 1 for heads):\n",
    "                                             \n",
    "      ```python\n",
    "      import numpy as np\n",
    "      flips = np.random.randint(0, 2, size=10)\n",
    "      print(flips) # Output might be: [0 1 1 0 1 0 0 1 0 1]\n",
    "      ```\n",
    "\n",
    "4.  **Matplotlib & Seaborn:** Libraries for data visualization.\n",
    "    * **Matplotlib:** A comprehensive library for creating static, animated, and interactive visualizations. It provides fine-grained control over plots.\n",
    "    * **Seaborn:** Built on top of Matplotlib, Seaborn provides a high-level interface for drawing attractive and informative statistical graphics, often with less code. We'll use both, leveraging Seaborn for quick, standard plots and Matplotlib for customization.\n",
    "    * **Example:** Creating a simple histogram (we'll see a full example in the Hands-on section).\n",
    "\n",
    "5.  **SciPy (Scientific Python):** A library that builds on NumPy and provides a large collection of algorithms and functions for scientific and technical computing. We will specifically use its `scipy.stats` module, which contains tools for:\n",
    "    * Working with a wide range of probability distributions (calculating probabilities, generating random numbers, fitting distributions to data).\n",
    "    * Performing statistical tests.\n",
    "    * **Example:** Calculating the probability of getting exactly 3 heads in 5 fair coin flips using the binomial distribution (more on this in later chapters).\n",
    "\n",
    "Don't worry if these seem like a lot right now. We'll introduce functions and concepts from these libraries gradually as needed throughout the book. The key is to get comfortable with the basic environment and operations first."
   ]
  },
  {
   "cell_type": "markdown",
   "id": "18b57e08",
   "metadata": {},
   "source": [
    "## 1.3 Hands-on: Setting up and Basic Operations\n",
    "\n",
    "Let's get our hands dirty! This section walks through setting up your environment and trying out some basic commands.\n",
    "\n",
    "### 1.3.1 Setting up the Environment\n",
    "\n",
    "The most straightforward way to get Python and the necessary libraries is to install the **Anaconda Distribution**. Anaconda bundles Python, Jupyter, NumPy, SciPy, Matplotlib, and many other useful scientific libraries into a single, easy-to-install package.\n",
    "\n",
    "1.  **Download Anaconda:** Go to the [Anaconda Distribution website](https://www.anaconda.com/products/distribution) and download the installer for your operating system (Windows, macOS, Linux).\n",
    "2.  **Install Anaconda:** Run the installer, following the on-screen instructions. It's generally recommended to accept the default settings unless you have specific reasons not to.\n",
    "3.  **Launch Jupyter Notebook/Lab:**\n",
    "    * **Using Anaconda Navigator:** Open Anaconda Navigator (which was installed along with Anaconda) and launch \"Jupyter Notebook\" or \"JupyterLab\" (JupyterLab is a more modern interface).\n",
    "    * **Using the Terminal/Command Prompt:** Open your terminal (macOS/Linux) or Anaconda Prompt (Windows) and type `jupyter notebook` or `jupyter lab` and press Enter.\n",
    "\n",
    "Your web browser should open, displaying the Jupyter interface, typically showing files in your home directory.\n",
    "\n",
    "**Alternative (using pip):** If you already have Python installed and prefer not to use Anaconda, you can install the libraries individually using `pip`, Python's package installer. Open your terminal or command prompt and run:\n",
    "```bash\n",
    "pip install numpy matplotlib seaborn scipy jupyterlab\n",
    "```\n",
    "Then launch JupyterLab by typing `jupyter lab` in the terminal.\n",
    "\n",
    "### 1.3.2 Basic Jupyter Usage\n",
    "\n",
    "Jupyter Notebooks consist of **cells**. The two main types are:\n",
    "\n",
    "* **Code cells:** Contain Python code that you can execute.\n",
    "* **Markdown cells:** Contain text, headings, lists, images, and equations formatted using Markdown syntax (like this cell!).\n",
    "\n",
    "**Key Actions:**\n",
    "\n",
    "* **Running a cell:** Select the cell by clicking on it and press `Shift + Enter` (or click the \"Run\" button in the toolbar). This executes the code (if it's a code cell) or renders the text (if it's a Markdown cell) and moves to the next cell. `Ctrl + Enter` runs the cell but stays selected.\n",
    "* **Changing cell type:** Use the dropdown menu in the toolbar to switch between Code and Markdown.\n",
    "* **Adding cells:** Use the `+` button in the toolbar.\n",
    "* **Saving:** Notebooks are saved automatically, but you can force a save with `Ctrl + S` or the save icon.\n",
    "\n",
    "**Try it:** Create a new code cell, type `print(\"Hello Probability!\")`, and run it using `Shift + Enter`."
   ]
  },
  {
   "cell_type": "code",
   "execution_count": 1,
   "id": "e597a821",
   "metadata": {},
   "outputs": [
    {
     "name": "stdout",
     "output_type": "stream",
     "text": [
      "Hello Probability!\n"
     ]
    }
   ],
   "source": [
    "print(\"Hello Probability!\")"
   ]
  },
  {
   "cell_type": "markdown",
   "id": "65e684c1",
   "metadata": {},
   "source": [
    "### 1.3.3 Simple NumPy Array Manipulations\n",
    "\n",
    "Let's create some NumPy arrays and perform basic operations. The standard convention is to import NumPy as `np`."
   ]
  },
  {
   "cell_type": "code",
   "execution_count": 2,
   "id": "f318da42",
   "metadata": {},
   "outputs": [],
   "source": [
    "import numpy as np"
   ]
  },
  {
   "cell_type": "code",
   "execution_count": 3,
   "id": "a138ab07",
   "metadata": {},
   "outputs": [
    {
     "name": "stdout",
     "output_type": "stream",
     "text": [
      "1D Array: [1 2 3 4 5]\n",
      "Type: <class 'numpy.ndarray'>\n",
      "Shape: (5,)\n"
     ]
    }
   ],
   "source": [
    "# Create a 1D array (vector) from a list\n",
    "my_list = [1, 2, 3, 4, 5]\n",
    "my_array = np.array(my_list)\n",
    "print(\"1D Array:\", my_array)\n",
    "print(\"Type:\", type(my_array))\n",
    "print(\"Shape:\", my_array.shape) # Shape is (5,) meaning 5 elements along one dimension"
   ]
  },
  {
   "cell_type": "code",
   "execution_count": 4,
   "id": "9704c82b",
   "metadata": {},
   "outputs": [
    {
     "name": "stdout",
     "output_type": "stream",
     "text": [
      "\n",
      "2D Array:\n",
      " [[1 2 3]\n",
      " [4 5 6]]\n",
      "Shape: (2, 3)\n"
     ]
    }
   ],
   "source": [
    "# Create a 2D array (matrix)\n",
    "my_2d_array = np.array([[1, 2, 3], [4, 5, 6]])\n",
    "print(\"\\n2D Array:\\n\", my_2d_array)\n",
    "print(\"Shape:\", my_2d_array.shape) # Shape is (2, 3) meaning 2 rows, 3 columns"
   ]
  },
  {
   "cell_type": "code",
   "execution_count": 5,
   "id": "7fc94db3",
   "metadata": {},
   "outputs": [
    {
     "name": "stdout",
     "output_type": "stream",
     "text": [
      "\n",
      "Zeros Array:\n",
      " [[0. 0. 0. 0.]\n",
      " [0. 0. 0. 0.]]\n"
     ]
    }
   ],
   "source": [
    "# Create arrays with specific values\n",
    "zeros_array = np.zeros((2, 4)) # Array of zeros with shape (2, 4)\n",
    "print(\"\\nZeros Array:\\n\", zeros_array)"
   ]
  },
  {
   "cell_type": "code",
   "execution_count": 6,
   "id": "7fa476fe",
   "metadata": {},
   "outputs": [
    {
     "name": "stdout",
     "output_type": "stream",
     "text": [
      "\n",
      "Ones Array: [1. 1. 1. 1. 1.]\n"
     ]
    }
   ],
   "source": [
    "ones_array = np.ones(5) # Array of ones with shape (5,)\n",
    "print(\"\\nOnes Array:\", ones_array)"
   ]
  },
  {
   "cell_type": "code",
   "execution_count": 7,
   "id": "0502edda",
   "metadata": {},
   "outputs": [
    {
     "name": "stdout",
     "output_type": "stream",
     "text": [
      "\n",
      "Range Array: [0 2 4 6 8]\n"
     ]
    }
   ],
   "source": [
    "# Create arrays with sequences\n",
    "range_array = np.arange(0, 10, 2) # Like Python's range: start, stop (exclusive), step\n",
    "print(\"\\nRange Array:\", range_array)"
   ]
  },
  {
   "cell_type": "code",
   "execution_count": 8,
   "id": "3412149d",
   "metadata": {},
   "outputs": [],
   "source": [
    "# Basic arithmetic operations (element-wise)\n",
    "arr1 = np.array([10, 20, 30])\n",
    "arr2 = np.array([1, 2, 3])"
   ]
  },
  {
   "cell_type": "code",
   "execution_count": 9,
   "id": "c2fb6951",
   "metadata": {},
   "outputs": [
    {
     "name": "stdout",
     "output_type": "stream",
     "text": [
      "\n",
      "Array Addition: [11 22 33]\n",
      "Array Multiplication: [10 40 90]\n",
      "Adding a scalar: [110 120 130]\n"
     ]
    }
   ],
   "source": [
    "print(\"\\nArray Addition:\", arr1 + arr2)\n",
    "print(\"Array Multiplication:\", arr1 * arr2)\n",
    "print(\"Adding a scalar:\", arr1 + 100)"
   ]
  },
  {
   "cell_type": "code",
   "execution_count": 10,
   "id": "0fb913be",
   "metadata": {},
   "outputs": [
    {
     "name": "stdout",
     "output_type": "stream",
     "text": [
      "\n",
      "Random Uniform: [0.16339962 0.35800223 0.008814   0.33546313 0.80743717]\n"
     ]
    }
   ],
   "source": [
    "# Random numbers\n",
    "# Generate 5 random numbers from a uniform distribution between 0 and 1\n",
    "random_uniform = np.random.rand(5)\n",
    "print(\"\\nRandom Uniform:\", random_uniform)"
   ]
  },
  {
   "cell_type": "code",
   "execution_count": 11,
   "id": "7d4c3112",
   "metadata": {},
   "outputs": [
    {
     "name": "stdout",
     "output_type": "stream",
     "text": [
      "Simulated Dice Rolls: [1 4 3 4 4 3]\n"
     ]
    }
   ],
   "source": [
    "# Generate 6 random integers between 1 (inclusive) and 7 (exclusive) - simulating dice rolls\n",
    "dice_rolls_example = np.random.randint(1, 7, size=6)\n",
    "print(\"Simulated Dice Rolls:\", dice_rolls_example)"
   ]
  },
  {
   "cell_type": "markdown",
   "id": "e84eb2df",
   "metadata": {},
   "source": [
    "### 1.3.4 Plotting a Basic Graph with Matplotlib\n",
    "\n",
    "Visualization is crucial for understanding probability distributions and simulation results. Let's simulate rolling a standard six-sided die many times and plot a histogram of the outcomes. We expect each outcome (1 through 6) to be roughly equally likely if we perform many rolls.\n",
    "\n",
    "We'll use `matplotlib.pyplot`, conventionally imported as `plt`."
   ]
  },
  {
   "cell_type": "code",
   "execution_count": 12,
   "id": "fc2ccb2f",
   "metadata": {},
   "outputs": [
    {
     "ename": "ModuleNotFoundError",
     "evalue": "No module named 'matplotlib'",
     "output_type": "error",
     "traceback": [
      "\u001b[0;31m---------------------------------------------------------------------------\u001b[0m",
      "\u001b[0;31mModuleNotFoundError\u001b[0m                       Traceback (most recent call last)",
      "Cell \u001b[0;32mIn[12], line 1\u001b[0m\n\u001b[0;32m----> 1\u001b[0m \u001b[38;5;28;01mimport\u001b[39;00m \u001b[38;5;21;01mmatplotlib\u001b[39;00m\u001b[38;5;21;01m.\u001b[39;00m\u001b[38;5;21;01mpyplot\u001b[39;00m \u001b[38;5;28;01mas\u001b[39;00m \u001b[38;5;21;01mplt\u001b[39;00m\n\u001b[1;32m      2\u001b[0m \u001b[38;5;28;01mimport\u001b[39;00m \u001b[38;5;21;01mnumpy\u001b[39;00m \u001b[38;5;28;01mas\u001b[39;00m \u001b[38;5;21;01mnp\u001b[39;00m \u001b[38;5;66;03m# Ensure numpy is imported\u001b[39;00m\n",
      "\u001b[0;31mModuleNotFoundError\u001b[0m: No module named 'matplotlib'"
     ]
    }
   ],
   "source": [
    "import matplotlib.pyplot as plt\n",
    "import numpy as np # Ensure numpy is imported"
   ]
  },
  {
   "cell_type": "code",
   "execution_count": 2,
   "id": "b90b73ed",
   "metadata": {},
   "outputs": [],
   "source": [
    "# --- Simulation Parameters ---\n",
    "num_rolls = 1000  # Let's simulate rolling the die 1000 times\n",
    "die_sides = 6"
   ]
  },
  {
   "cell_type": "code",
   "execution_count": 3,
   "id": "44aeb65f",
   "metadata": {},
   "outputs": [],
   "source": [
    "# --- Simulate the Dice Rolls ---\n",
    "# np.random.randint(low, high, size) generates integers from low (inclusive) to high (exclusive)\n",
    "rolls = np.random.randint(1, die_sides + 1, size=num_rolls)"
   ]
  },
  {
   "cell_type": "code",
   "execution_count": 7,
   "id": "b707dcbf",
   "metadata": {},
   "outputs": [
    {
     "data": {
      "image/png": "[encoded data removed]",
      "text/plain": [
       "<Figure size 800x500 with 1 Axes>"
      ]
     },
     "metadata": {},
     "output_type": "display_data"
    }
   ],
   "source": [
    "# --- Create the Histogram ---\n",
    "# plt.hist() calculates and draws the histogram\n",
    "# bins defines the edges of the bins. We want bins [1, 2), [2, 3), ..., [6, 7)\n",
    "# We use np.arange(1, die_sides + 2) which gives [1, 2, 3, 4, 5, 6, 7]\n",
    "# align='left' means the bar label corresponds to the left edge (e.g., label '1' for bin [1, 2))\n",
    "# rwidth controls the relative width of the bars\n",
    "plt.figure(figsize=(8, 5)) # Optional: sets the figure size\n",
    "plt.hist(rolls, bins=np.arange(1, die_sides + 2), align='left', rwidth=0.8, color='skyblue', edgecolor='black')\n",
    "\n",
    "# --- Add Labels and Title ---\n",
    "plt.title(f'Histogram of {num_rolls} Dice Rolls')\n",
    "plt.xlabel('Die Outcome')\n",
    "plt.ylabel('Frequency (Count)')\n",
    "plt.xticks(np.arange(1, die_sides + 1)) # Set ticks explicitly to 1, 2, ..., 6\n",
    "plt.grid(axis='y', linestyle='--', alpha=0.7) # Add horizontal grid lines"
   ]
  },
  {
   "cell_type": "markdown",
   "id": "0264dbfa",
   "metadata": {},
   "source": [
    "If you run the code cell above, you should see a histogram. Because the rolls are random, the bars won't be perfectly equal, especially with only 1000 rolls. However, you should observe that the frequencies for each outcome (1 to 6) are roughly similar. As we increase `num_rolls` (try changing it to 10000 or 100000 and rerunning), the bars should become even closer in height, illustrating the concept of probabilities evening out over many trials (which we'll formally call the Law of Large Numbers later)."
   ]
  },
  {
   "cell_type": "markdown",
   "id": "0d21c553",
   "metadata": {},
   "source": [
    "## Chapter Summary\n",
    "\n",
    "In this chapter, we introduced the fundamental concept of probability as a measure of uncertainty and highlighted its importance across various fields. We also familiarized ourselves with the essential Python toolkit for this book: Jupyter Notebooks, NumPy, Matplotlib, and SciPy. Finally, we walked through setting up the environment and performed basic operations, including array manipulation with NumPy and plotting a histogram with Matplotlib.\n",
    "\n",
    "You should now have a working Python environment and a basic understanding of how to execute code and visualize simple data within a Jupyter Notebook.\n",
    "\n",
    "In the next chapter, we will delve into the formal language of probability, defining key terms like sample spaces, events, and outcomes, and exploring the fundamental axioms and rules that govern probability calculations."
   ]
  },
  {
   "cell_type": "markdown",
   "id": "b26caad0",
   "metadata": {},
   "source": []
  }
 ],
 "metadata": {
  "jupytext": {
   "encoding": "# -*- coding: utf-8 -*-",
   "formats": "ipynb,py:light"
  },
  "kernelspec": {
   "display_name": "Python 3 (ipykernel)",
   "language": "python",
   "name": "python3"
  },
  "language_info": {
   "codemirror_mode": {
    "name": "ipython",
    "version": 3
   },
   "file_extension": ".py",
   "mimetype": "text/x-python",
   "name": "python",
   "nbconvert_exporter": "python",
   "pygments_lexer": "ipython3",
   "version": "3.10.14"
  }
 },
 "nbformat": 4,
 "nbformat_minor": 5
}