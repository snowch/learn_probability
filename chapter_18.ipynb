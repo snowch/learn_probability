{
 "cells": [
  {
   "cell_type": "markdown",
   "id": "346faad7",
   "metadata": {},
   "source": [
    "# Chapter 18: (Optional) Further Explorations"
   ]
  },
  {
   "cell_type": "markdown",
   "id": "eed07bcc",
   "metadata": {},
   "source": [
    "**Welcome to the final chapter!** This chapter provides a brief glimpse into several fascinating areas that build upon the foundations of probability we've established. These topics often form the basis for more advanced courses in statistics, machine learning, information theory, and quantitative finance. \n",
    "\n",
    "We won't delve into rigorous proofs or exhaustive detail, but rather aim to provide an intuitive understanding and demonstrate simple applications using Python. Consider this a launching point for your further learning.\n",
    "\n",
    "We will touch upon:\n",
    "* **Information Theory:** Quantifying information and comparing distributions (Entropy, KL Divergence).\n",
    "* **Stochastic Processes:** Modeling systems that evolve randomly over time (Poisson Process, Brownian Motion).\n",
    "* **Generating Functions:** Powerful mathematical tools for analyzing distributions (MGFs, PGFs)."
   ]
  },
  {
   "cell_type": "markdown",
   "id": "af1eeaf5",
   "metadata": {},
   "source": [
    "## Introduction to Information Theory"
   ]
  },
  {
   "cell_type": "markdown",
   "id": "55e59c14",
   "metadata": {},
   "source": [
    "Information theory, pioneered by Claude Shannon, deals with quantifying information, data compression, and communication limits. Two fundamental concepts are entropy and Kullback-Leibler (KL) divergence."
   ]
  },
  {
   "cell_type": "markdown",
   "id": "92d71055",
   "metadata": {},
   "source": [
    "### Entropy"
   ]
  },
  {
   "cell_type": "markdown",
   "id": "dca1f346",
   "metadata": {},
   "source": [
    "Entropy measures the average level of \"information\", \"surprise\", or \"uncertainty\" inherent in a random variable's possible outcomes. For a discrete random variable $X$ with PMF $p(x)$, the entropy $H(X)$ is defined as:\n",
    "\n",
    "$$ H(X) = - \\sum_{x} p(x) \\log_b p(x) $$\n",
    "\n",
    "The base $b$ of the logarithm determines the units (usually base 2 for bits, base $e$ for nats).\n",
    "\n",
    "* **High Entropy:** The outcomes are roughly equally likely (high uncertainty). A fair coin flip has higher entropy than a heavily biased coin.\n",
    "* **Low Entropy:** One outcome is much more likely than others (low uncertainty).\n",
    "\n",
    "**Example:** Consider a fair six-sided die vs. a heavily weighted die where P(roll=1)=0.9 and P(roll=i)=0.02 for i=2..6. The fair die has higher entropy because the outcome is less predictable.\n",
    "\n",
    "Let's compare the entropy of English text (where 'e' is common, 'z' is rare) to random characters (where all letters are equally likely). English text will have lower entropy because the letter frequencies are uneven, making it more predictable than random characters."
   ]
  },
  {
   "cell_type": "code",
   "execution_count": null,
   "id": "27cc5b82",
   "metadata": {},
   "outputs": [],
   "source": [
    "import numpy as np\n",
    "from scipy.stats import entropy\n",
    "\n",
    "# Example: Entropy of a fair die vs. a biased die\n",
    "\n",
    "# Fair die probabilities\n",
    "p_fair = np.array([1/6] * 6)\n",
    "\n",
    "# Biased die probabilities (P(1)=0.5, others equal)\n",
    "p_biased = np.array([0.5, 0.1, 0.1, 0.1, 0.1, 0.1]) \n",
    "# Ensure it sums to 1\n",
    "assert np.isclose(p_biased.sum(), 1.0)\n",
    "\n",
    "# Calculate entropy (using base 2 for bits)\n",
    "entropy_fair = entropy(p_fair, base=2)\n",
    "entropy_biased = entropy(p_biased, base=2)\n",
    "\n",
    "print(f\"Entropy of fair die: {entropy_fair:.4f} bits\")\n",
    "print(f\"Entropy of biased die: {entropy_biased:.4f} bits\")\n",
    "\n",
    "# Higher entropy means more uncertainty/unpredictability"
   ]
  },
  {
   "cell_type": "markdown",
   "id": "1bbbe3d0",
   "metadata": {},
   "source": [
    "### Kullback-Leibler (KL) Divergence"
   ]
  },
  {
   "cell_type": "markdown",
   "id": "0b7d2fc6",
   "metadata": {},
   "source": [
    "KL divergence measures how one probability distribution $P$ diverges from a second, expected probability distribution $Q$. It's often interpreted as the information gain achieved when switching from a prior distribution $Q$ to a posterior distribution $P$.\n",
    "\n",
    "For discrete distributions $P$ and $Q$ defined on the same sample space, the KL divergence from $Q$ to $P$ is:\n",
    "\n",
    "$$ D_{KL}(P || Q) = \\sum_{x} P(x) \\log_b \\frac{P(x)}{Q(x)} $$\n",
    "\n",
    "Key properties:\n",
    "* $D_{KL}(P || Q) \\ge 0$\n",
    "* $D_{KL}(P || Q) = 0$ if and only if $P = Q$\n",
    "* It is **not** symmetric: $D_{KL}(P || Q) \\neq D_{KL}(Q || P)$ in general.\n",
    "\n",
    "**Example:** How much information is lost if we model the biased die using the distribution of a fair die?"
   ]
  },
  {
   "cell_type": "code",
   "execution_count": null,
   "id": "4730cbb8",
   "metadata": {},
   "outputs": [],
   "source": [
    "# Example: KL Divergence between biased and fair die\n",
    "\n",
    "# Note: scipy.stats.entropy(P, Q) calculates KL divergence D_KL(P || Q)\n",
    "\n",
    "# How different is the biased distribution (P) from the fair one (Q)?\n",
    "kl_pq = entropy(pk=p_biased, qk=p_fair, base=2) \n",
    "\n",
    "# How different is the fair distribution (P) from the biased one (Q)?\n",
    "kl_qp = entropy(pk=p_fair, qk=p_biased, base=2)\n",
    "\n",
    "print(f\"KL Divergence D_KL(Biased || Fair): {kl_pq:.4f} bits\")\n",
    "print(f\"KL Divergence D_KL(Fair || Biased): {kl_qp:.4f} bits\")\n",
    "\n",
    "# The non-zero values indicate the distributions are different.\n",
    "# The asymmetry shows the 'direction' matters."
   ]
  },
  {
   "cell_type": "markdown",
   "id": "ceee2a9e",
   "metadata": {},
   "source": [
    "## Introduction to Stochastic Processes"
   ]
  },
  {
   "cell_type": "markdown",
   "id": "f549e36f",
   "metadata": {},
   "source": [
    "A stochastic process is a collection of random variables, typically indexed by time, $\\{X(t) | t \\in T\\}$. It describes systems that evolve randomly.\n",
    "\n",
    "* **Markov Chains (Chapter 16):** Discrete time, discrete state space, memoryless property.\n",
    "* **Poisson Process:** Continuous time, discrete events occurring randomly.\n",
    "* **Brownian Motion:** Continuous time, continuous state space, modeling random movement."
   ]
  },
  {
   "cell_type": "markdown",
   "id": "60f4c836",
   "metadata": {},
   "source": [
    "### Poisson Process"
   ]
  },
  {
   "cell_type": "markdown",
   "id": "6f2a1527",
   "metadata": {},
   "source": [
    "A Poisson process counts the number of events occurring in a given time interval. It's characterized by a constant average rate $\\lambda$ (events per unit time).\n",
    "\n",
    "Key properties:\n",
    "1.  The number of events in any interval of length $t$ follows a Poisson distribution with mean $\\lambda t$.\n",
    "2.  The numbers of events in disjoint time intervals are independent.\n",
    "3.  The time *between* consecutive events follows an Exponential distribution with rate $\\lambda$ (mean $1/\\lambda$).\n",
    "\n",
    "**Example:** Modeling the arrival of customers at a store, radioactive decay events, or receiving emails, assuming the average rate is constant and events are independent.\n",
    "\n",
    "Let's simulate the arrival times of events in a Poisson process."
   ]
  },
  {
   "cell_type": "code",
   "execution_count": null,
   "id": "66e5c506",
   "metadata": {},
   "outputs": [],
   "source": [
    "import matplotlib.pyplot as plt\n",
    "import numpy as np\n",
    "from scipy.stats import expon\n",
    "\n",
    "# Parameters\n",
    "lambda_rate = 2  # Average events per time unit (e.g., per hour)\n",
    "total_time = 10 # Simulate over 10 time units\n",
    "num_events_to_simulate = 30 # Approximate number (actual might differ)\n",
    "\n",
    "# Inter-arrival times follow Exponential(lambda)\n",
    "# We can simulate these times and sum them to get arrival times\n",
    "inter_arrival_times = expon.rvs(scale=1/lambda_rate, size=num_events_to_simulate)\n",
    "\n",
    "# Calculate arrival times by cumulative sum\n",
    "arrival_times = np.cumsum(inter_arrival_times)\n",
    "\n",
    "# Filter events that occur within the total_time\n",
    "arrival_times = arrival_times[arrival_times <= total_time]\n",
    "\n",
    "# Plot the arrival times\n",
    "plt.figure(figsize=(10, 2))\n",
    "plt.eventplot(arrival_times, orientation='horizontal', colors='blue')\n",
    "plt.xlabel('Time')\n",
    "plt.yticks([])\n",
    "plt.title(f'Simulated Poisson Process Arrivals ($\\lambda$={lambda_rate})')\n",
    "plt.grid(True, axis='x')\n",
    "plt.xlim(0, total_time)\n",
    "plt.show()\n",
    "\n",
    "print(f\"Number of events simulated in {total_time} time units: {len(arrival_times)}\")\n",
    "# Compare to expected number: lambda * T = 2 * 10 = 20\n",
    "# The actual number is random and follows Poisson(lambda*T)"
   ]
  },
  {
   "cell_type": "markdown",
   "id": "7a91d591",
   "metadata": {},
   "source": [
    "### Brownian Motion"
   ]
  },
  {
   "cell_type": "markdown",
   "id": "a90e672d",
   "metadata": {},
   "source": [
    "Brownian motion (or Wiener process) $W(t)$ models the random movement of particles suspended in a fluid, or more generally, phenomena exhibiting continuous random fluctuations.\n",
    "\n",
    "Key properties (Standard Brownian Motion):\n",
    "1.  $W(0) = 0$.\n",
    "2.  Independent Increments: For any $0 \\le s < t < u < v$, the increments $W(t) - W(s)$ and $W(v) - W(u)$ are independent random variables.\n",
    "3.  Normal Increments: For any $0 \\le s < t$, the increment $W(t) - W(s)$ is normally distributed with mean 0 and variance $t - s$. $W(t) \\sim \\mathcal{N}(0, t)$.\n",
    "4.  Continuous Paths: The function $W(t)$ is continuous in $t$.\n",
    "\n",
    "**Geometric Brownian Motion (GBM):** Often used in finance to model stock prices. A process $S(t)$ follows GBM if it satisfies the stochastic differential equation:\n",
    "$$ dS(t) = \\mu S(t) dt + \\sigma S(t) dW(t) $$\n",
    "where $\\mu$ is the drift (average rate of return), $\\sigma$ is the volatility (standard deviation of returns), and $dW(t)$ is the increment of a Wiener process.\n",
    "\n",
    "The solution can be written as:\n",
    "$$ S(t) = S(0) \\exp\\left( (\\mu - \\frac{\\sigma^2}{2})t + \\sigma W(t) \\right) $$\n",
    "\n",
    "**Example:** Simulating a simple stock price path using GBM."
   ]
  },
  {
   "cell_type": "code",
   "execution_count": null,
   "id": "52c69442",
   "metadata": {},
   "outputs": [],
   "source": [
    "import numpy as np\n",
    "import matplotlib.pyplot as plt\n",
    "\n",
    "# Parameters for Geometric Brownian Motion\n",
    "S0 = 100     # Initial stock price\n",
    "mu = 0.05    # Expected annual return (drift)\n",
    "sigma = 0.2  # Annual volatility \n",
    "T = 1.0      # Time horizon in years\n",
    "N = 252      # Number of time steps (e.g., trading days in a year)\n",
    "dt = T / N   # Time step size\n",
    "\n",
    "# Simulate the Wiener process increments (standard normal)\n",
    "dW = np.random.normal(loc=0.0, scale=np.sqrt(dt), size=N)\n",
    "\n",
    "# Calculate the cumulative sum of increments to get W(t)\n",
    "# Need W(t) at each step, so we need the cumulative sum\n",
    "W = np.cumsum(dW)\n",
    "\n",
    "# Add W(0)=0 at the beginning\n",
    "W = np.insert(W, 0, 0.0)\n",
    "\n",
    "# Time points\n",
    "t = np.linspace(0.0, T, N + 1)\n",
    "\n",
    "# Calculate the GBM path\n",
    "S_t = S0 * np.exp((mu - 0.5 * sigma**2) * t + sigma * W)\n",
    "\n",
    "# Plot the simulated stock price path\n",
    "plt.figure(figsize=(10, 6))\n",
    "plt.plot(t, S_t)\n",
    "plt.xlabel('Time (Years)')\n",
    "plt.ylabel('Stock Price')\n",
    "plt.title(f'Simulated Geometric Brownian Motion Path\\n($S_0$={S0}, $\\mu$={mu}, $\\sigma$={sigma})')\n",
    "plt.grid(True)\n",
    "plt.show()"
   ]
  },
  {
   "cell_type": "markdown",
   "id": "3f6b3e51",
   "metadata": {},
   "source": [
    "## Generating Functions"
   ]
  },
  {
   "cell_type": "markdown",
   "id": "772e1370",
   "metadata": {},
   "source": [
    "Generating functions are powerful tools in probability and combinatorics. They encode the sequence of probabilities of a distribution into a single function. Derivatives and manipulations of this function can reveal properties like moments (mean, variance) and the distribution of sums of independent random variables."
   ]
  },
  {
   "cell_type": "markdown",
   "id": "2b3c942a",
   "metadata": {},
   "source": [
    "### Probability Generating Functions (PGFs)"
   ]
  },
  {
   "cell_type": "markdown",
   "id": "c4fa03e6",
   "metadata": {},
   "source": [
    "Used for non-negative integer-valued discrete random variables $X$ (like Poisson, Binomial, Geometric). The PGF is defined as:\n",
    "\n",
    "$$ G_X(z) = E[z^X] = \\sum_{k=0}^{\\infty} P(X=k) z^k $$\n",
    "\n",
    "Properties:\n",
    "* $G_X(1) = \\sum P(X=k) = 1$\n",
    "* $E[X] = G'_X(1)$ (first derivative evaluated at z=1)\n",
    "* $Var(X) = G''_X(1) + G'_X(1) - [G'_X(1)]^2$\n",
    "* If $X$ and $Y$ are independent, then $G_{X+Y}(z) = G_X(z) G_Y(z)$."
   ]
  },
  {
   "cell_type": "markdown",
   "id": "9035bce4",
   "metadata": {},
   "source": [
    "### Moment Generating Functions (MGFs)"
   ]
  },
  {
   "cell_type": "markdown",
   "id": "0d159bdc",
   "metadata": {},
   "source": [
    "Applicable to both discrete and continuous random variables. The MGF is defined as:\n",
    "\n",
    "$$ M_X(t) = E[e^{tX}] $$\n",
    "\n",
    "For discrete $X$: $M_X(t) = \\sum_x e^{tx} P(X=x)$\n",
    "For continuous $X$: $M_X(t) = \\int_{-\\infty}^{\\infty} e^{tx} f_X(x) dx$\n",
    "\n",
    "Properties:\n",
    "* $M_X(0) = E[e^0] = 1$\n",
    "* $E[X^n] = M_X^{(n)}(0)$ (n-th derivative evaluated at t=0)\n",
    "* $E[X] = M'_X(0)$\n",
    "* $Var(X) = E[X^2] - (E[X])^2 = M''_X(0) - [M'_X(0)]^2$\n",
    "* If $X$ and $Y$ are independent, then $M_{X+Y}(t) = M_X(t) M_Y(t)$.\n",
    "* Uniqueness: If two random variables have the same MGF (in a neighborhood around 0), they have the same distribution.\n",
    "\n",
    "**Example:** The MGF of a Normal distribution $X \\sim \\mathcal{N}(\\mu, \\sigma^2)$ is $M_X(t) = \\exp(\\mu t + \\frac{1}{2} \\sigma^2 t^2)$.\n",
    "Let's verify the mean and variance using derivatives:\n",
    "* $M'_X(t) = (\\mu + \\sigma^2 t) \\exp(\\mu t + \\frac{1}{2} \\sigma^2 t^2)$\n",
    "   $E[X] = M'_X(0) = (\\mu + 0) \\exp(0) = \\mu$\n",
    "* $M''_X(t) = \\sigma^2 \\exp(\\dots) + (\\mu + \\sigma^2 t)^2 \\exp(\\dots)$\n",
    "   $E[X^2] = M''_X(0) = \\sigma^2 \\exp(0) + (\\mu + 0)^2 \\exp(0) = \\sigma^2 + \\mu^2$\n",
    "* $Var(X) = E[X^2] - (E[X])^2 = (\\sigma^2 + \\mu^2) - (\\mu)^2 = \\sigma^2$"
   ]
  },
  {
   "cell_type": "markdown",
   "id": "0fd1048d",
   "metadata": {},
   "source": [
    "While calculating MGFs often involves calculus, some libraries like `scipy.stats` internally use properties derived from them to provide moments."
   ]
  },
  {
   "cell_type": "code",
   "execution_count": null,
   "id": "f309ec7b",
   "metadata": {},
   "outputs": [],
   "source": [
    "from scipy.stats import norm\n",
    "\n",
    "# Define a normal distribution object\n",
    "mu = 5\n",
    "sigma = 2\n",
    "rv = norm(loc=mu, scale=sigma)\n",
    "\n",
    "# SciPy provides methods to get moments directly\n",
    "# These are consistent with what would be derived from the MGF\n",
    "mean, var, skew, kurt = rv.stats(moments='mvsk')\n",
    "\n",
    "print(f\"Using scipy.stats for N(mu={mu}, sigma={sigma}):\")\n",
    "print(f\"  Mean (E[X]): {mean:.4f} (Theoretical: {mu})\" )\n",
    "print(f\"  Variance (Var(X)): {var:.4f} (Theoretical: {sigma**2})\")\n",
    "\n",
    "# Expected value of X^2 = Var(X) + (E[X])^2\n",
    "ex2 = var + mean**2\n",
    "print(f\"  E[X^2]: {ex2:.4f} (Theoretical: {sigma**2 + mu**2})\")\n",
    "\n",
    "# Note: SciPy doesn't directly provide a symbolic MGF or its derivatives.\n",
    "# Using MGFs is primarily an analytical technique."
   ]
  },
  {
   "cell_type": "markdown",
   "id": "408dbc4a",
   "metadata": {},
   "source": [
    "## Chapter Summary"
   ]
  },
  {
   "cell_type": "markdown",
   "id": "b257d2b4",
   "metadata": {},
   "source": [
    "This chapter offered a brief introduction to several advanced probability topics:\n",
    "* **Information Theory:** We saw how entropy quantifies uncertainty (using `scipy.stats.entropy`) and KL divergence measures the difference between distributions.\n",
    "* **Stochastic Processes:** We explored models for random evolution over time, simulating event arrivals with the **Poisson Process** (using `scipy.stats.expon` for inter-arrival times) and modeling continuous random movement like stock prices with **Geometric Brownian Motion** (using `numpy.random.normal` for increments).\n",
    "* **Generating Functions:** We discussed the concepts of PGFs and MGFs as mathematical tools to analyze distributions and find moments, illustrating how `scipy.stats` provides moments consistent with MGF theory for common distributions like the Normal.\n",
    "\n",
    "These areas represent vast fields of study. Hopefully, this glimpse has piqued your interest and demonstrated how the fundamental concepts learned throughout this book serve as stepping stones to more complex and powerful probabilistic modeling techniques."
   ]
  }
 ],
 "metadata": {
  "kernelspec": {
   "display_name": "Python 3 (ipykernel)",
   "language": "python",
   "name": "python3"
  },
  "language_info": {
   "codemirror_mode": {
    "name": "ipython",
    "version": 3
   },
   "file_extension": ".py",
   "mimetype": "text/x-python",
   "name": "python",
   "nbconvert_exporter": "python",
   "pygments_lexer": "ipython3",
   "version": "3.11.10"
  },
  "toc": {
   "base_numbering": 1,
   "nav_menu": {},
   "number_sections": false,
   "sideBar": true,
   "skip_h1_title": false,
   "title_cell": "Table of Contents",
   "title_sidebar": "Contents",
   "toc_cell": false,
   "toc_position": {},
   "toc_section_display": true,
   "toc_window_display": false
  }
 },
 "nbformat": 4,
 "nbformat_minor": 5
}
