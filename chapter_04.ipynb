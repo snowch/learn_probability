{
 "cells": [
  {
   "cell_type": "markdown",
   "id": "c1e803ee",
   "metadata": {},
   "source": [
    "# Chapter 4: Conditional Probability\n",
    "\n",
    "In the previous chapters, we laid the groundwork for probability, exploring sample spaces, events, and counting techniques. Now, we venture into one of the most fundamental and powerful concepts in probability theory: **conditional probability**.\n",
    "\n",
    "Often, we are interested in the probability of an event occurring *given that* another event has already happened. Our knowledge or assumptions about one event can change our assessment of the probability of another. This is the essence of conditional probability. It allows us to update our beliefs in the face of new information."
   ]
  },
  {
   "cell_type": "markdown",
   "id": "6964d2d3",
   "metadata": {},
   "source": [
    "## 1. Definition and Intuition\n",
    "\n",
    "**Conditional Probability** measures the probability of an event $A$ occurring given that another event $B$ has already occurred (or is known to have occurred). We denote this as $P(A|B)$, read as \"the probability of A given B\".\n",
    "\n",
    "**Intuition:** Imagine the entire sample space $S$. When we know that event $B$ has occurred, our focus effectively narrows down from the entire sample space $S$ to just the outcomes within $B$. We are now interested in the probability that $A$ occurs *within this new, reduced sample space* $B$. The outcomes favourable to \"A given B\" are those that belong to both $A$ and $B$, i.e., $A \\cap B$.\n",
    "\n",
    "**Formal Definition:**\n",
    "For any two events $A$ and $B$ from a sample space $S$, where $P(B) > 0$, the conditional probability of $A$ given $B$ is defined as:\n",
    "\n",
    "$$ P(A|B) = \\frac{P(A \\cap B)}{P(B)} $$\n",
    "\n",
    "where:\n",
    "* $P(A \\cap B)$ is the probability that both events $A$ and $B$ occur.\n",
    "* $P(B)$ is the probability that event $B$ occurs.\n",
    "\n",
    "**Example:** What is the probability it rains tomorrow ($A$), given that it is cloudy today ($B$)?\n",
    "Intuitively, knowing it's cloudy today might increase our assessment of the probability of rain tomorrow compared to not knowing anything about today's weather. Conditional probability provides a formal way to calculate this updated probability, perhaps using historical weather data where $P(A \\cap B)$ is the probability of a cloudy day followed by a rainy day, and $P(B)$ is the overall probability of a day being cloudy."
   ]
  },
  {
   "cell_type": "markdown",
   "id": "9cbedd88",
   "metadata": {},
   "source": [
    "## 2. The Multiplication Rule for Conditional Probability\n",
    "\n",
    "Rearranging the definition of conditional probability gives us the **General Multiplication Rule**, which is useful for calculating the probability of the intersection of two events:\n",
    "\n",
    "$$ P(A \\cap B) = P(A|B) P(B) $$\n",
    "\n",
    "Similarly, if $P(A) > 0$, we can write:\n",
    "\n",
    "$$ P(A \\cap B) = P(B|A) P(A) $$\n",
    "\n",
    "This rule is particularly helpful when dealing with sequential events, where the outcome of the first event affects the probability of the second.\n",
    "\n",
    "**Example:** Probability of drawing two Kings from a standard 52-card deck without replacement.\n",
    "Let $A$ be the event \"the first card drawn is a King\" and $B$ be the event \"the second card drawn is a King\".\n",
    "We want to find $P(A \\cap B)$.\n",
    "Using the multiplication rule: $P(A \\cap B) = P(B|A) P(A)$.\n",
    "* $P(A)$: There are 4 Kings in 52 cards, so $P(A) = \\frac{4}{52}$.\n",
    "* $P(B|A)$: *Given* that the first card was a King, there are now 3 Kings left in the remaining 51 cards. So, $P(B|A) = \\frac{3}{51}$.\n",
    "\n",
    "Therefore,\n",
    "\n",
    "$$ P(\\text{Draw 2 Kings}) = P(A \\cap B) = P(B|A) P(A) = \\frac{3}{51} \\times \\frac{4}{52} = \\frac{12}{2652} \\approx 0.0045 $$\n",
    "\n",
    "This rule can be extended to more than two events. For three events $A, B, C$:\n",
    "\n",
    "$$ P(A \\cap B \\cap C) = P(C | A \\cap B) P(B | A) P(A) $$"
   ]
  },
  {
   "cell_type": "markdown",
   "id": "8732aaa9",
   "metadata": {},
   "source": [
    "## 3. The Law of Total Probability\n",
    "\n",
    "Sometimes, calculating the probability of an event $A$ directly is difficult. However, we might know the conditional probabilities of $A$ occurring under various mutually exclusive and exhaustive scenarios. The Law of Total Probability allows us to find the overall probability of $A$ by considering these scenarios.\n",
    "\n",
    "**Definition:** Let $B_1, B_2, \\ldots, B_n$ be a **partition** of the sample space $S$. This means:\n",
    "1.  $B_i \\cap B_j = \\emptyset$ for all $i \\neq j$ (The events are mutually exclusive).\n",
    "2.  $B_1 \\cup B_2 \\cup \\ldots \\cup B_n = S$ (The events cover the entire sample space, they are exhaustive).\n",
    "3.  $P(B_i) > 0$ for all $i$.\n",
    "\n",
    "Then, for any event $A$ in the sample space $S$, the Law of Total Probability states:\n",
    "\n",
    "$$ P(A) = \\sum_{i=1}^{n} P(A | B_i) P(B_i) $$\n",
    "\n",
    "$$ P(A) = P(A|B_1)P(B_1) + P(A|B_2)P(B_2) + \\ldots + P(A|B_n)P(B_n) $$\n",
    "\n",
    "**Intuition:** The overall probability of $A$ is a weighted average of its conditional probabilities under each scenario ($B_i$), where the weights are the probabilities of those scenarios ($P(B_i)$) themselves.\n",
    "\n",
    "**Example:** Finding the overall probability a randomly selected person has COVID, considering different testing rates and infection probabilities in different age groups.\n",
    "Let $A$ be the event \"a person has COVID\".\n",
    "Let $B_1$ be the event \"person is in Age Group 1\", $B_2$ be \"person is in Age Group 2\", ..., $B_n$ be \"person is in Age Group n\". These age groups form a partition of the population.\n",
    "We might know:\n",
    "* The probability a person falls into each age group: $P(B_1), P(B_2), \\ldots, P(B_n)$.\n",
    "* The probability a person has COVID *given* they are in a specific age group: $P(A|B_1), P(A|B_2), \\ldots, P(A|B_n)$.\n",
    "\n",
    "Using the Law of Total Probability, we can calculate the overall probability of having COVID:\n",
    "\n",
    "$$ P(A) = P(A|B_1)P(B_1) + P(A|B_2)P(B_2) + \\ldots + P(A|B_n)P(B_n) $$"
   ]
  },
  {
   "cell_type": "markdown",
   "id": "1df9105f",
   "metadata": {},
   "source": [
    "## 4. Tree Diagrams\n",
    "\n",
    "Tree diagrams are a useful visualization tool for problems involving sequences of events, especially when conditional probabilities are involved.\n",
    "\n",
    "* Each branch represents an event.\n",
    "* The probability of each event is written on the branch.\n",
    "* Branches emanating from a single point represent mutually exclusive outcomes of a stage, and their probabilities should sum to 1.\n",
    "* The probability of reaching a specific endpoint (a sequence of events) is found by multiplying the probabilities along the path leading to that endpoint (using the Multiplication Rule).\n",
    "* The probability of an event that can occur via multiple paths is found by summing the probabilities of those paths (related to the Law of Total Probability).\n",
    "\n",
    "**Example:** Visualizing the probabilities of outcomes in a sequence of two potentially biased coin flips.\n",
    "Suppose a coin has $P(\\text{Heads}) = 0.6$ and $P(\\text{Tails}) = 0.4$. We flip it twice. The outcomes are independent.\n",
    "\n",
    "```\n",
    "       Start\n",
    "      /     \\\n",
    "  P=0.6    P=0.4\n",
    "   /         \\\n",
    " H (Flip 1)   T (Flip 1)\n",
    "  /   \\        /   \\\n",
    "P=0.6 P=0.4  P=0.6 P=0.4\n",
    " /     \\      /     \\\n",
    "H(F2) T(F2)  H(F2) T(F2)\n",
    "```\n",
    "\n",
    "* **Path 1 (HH):** $P(\\text{H on 1st} \\cap \\text{H on 2nd}) = P(\\text{H on 1st}) \\times P(\\text{H on 2nd}|\\text{H on 1st}) = 0.6 \\times 0.6 = 0.36$ (Since flips are independent, $P(H2|H1)=P(H2)=0.6$).\n",
    "* **Path 2 (HT):** $P(\\text{H on 1st} \\cap \\text{T on 2nd}) = 0.6 \\times 0.4 = 0.24$.\n",
    "* **Path 3 (TH):** $P(\\text{T on 1st} \\cap \\text{H on 2nd}) = 0.4 \\times 0.6 = 0.24$.\n",
    "* **Path 4 (TT):** $P(\\text{T on 1st} \\cap \\text{T on 2nd}) = 0.4 \\times 0.4 = 0.16$.\n",
    "\n",
    "Note that the probabilities of all possible outcomes sum to 1: $0.36 + 0.24 + 0.24 + 0.16 = 1.0$.\n",
    "\n",
    "We can use this to find probabilities of combined events, e.g., $P(\\text{Exactly one Head}) = P(HT) + P(TH) = 0.24 + 0.24 = 0.48$."
   ]
  },
  {
   "cell_type": "markdown",
   "id": "505f54ae",
   "metadata": {},
   "source": [
    "## 5. Hands-on: Simulations and Calculations\n",
    "\n",
    "Let's use Python to explore these concepts. We'll need libraries like `numpy` for numerical operations and random sampling, and potentially `pandas` for handling data."
   ]
  },
  {
   "cell_type": "code",
   "execution_count": 1,
   "id": "6bd5419a",
   "metadata": {},
   "outputs": [],
   "source": [
    "import numpy as np\n",
    "import pandas as pd\n",
    "import random"
   ]
  },
  {
   "cell_type": "markdown",
   "id": "d84cea9d",
   "metadata": {},
   "source": [
    "### 5.1 Simulating Conditional Events: Drawing Cards\n",
    "\n",
    "Let's simulate drawing two cards from a standard 52-card deck *without replacement* and verify the conditional probability $P(\\text{2nd is King} | \\text{1st is King})$. We expect this to be $3/51$.\n",
    "\n",
    "We can also estimate the overall probability $P(\\text{2nd is King})$. By symmetry or using the Law of Total Probability, this should be $4/52$.\n",
    "\n",
    "$P(\\text{2nd King}) = P(\\text{2nd King} | \\text{1st King})P(\\text{1st King}) + P(\\text{2nd King} | \\text{1st Not King})P(\\text{1st Not King})$\n",
    "$P(\\text{2nd King}) = (\\frac{3}{51})(\\frac{4}{52}) + (\\frac{4}{51})(\\frac{48}{52}) = \\frac{12 + 192}{51 \\times 52} = \\frac{204}{2652} = \\frac{4}{52}$"
   ]
  },
  {
   "cell_type": "code",
   "execution_count": 2,
   "id": "0810e794",
   "metadata": {},
   "outputs": [],
   "source": [
    "# Represent the deck\n",
    "ranks = ['2', '3', '4', '5', '6', '7', '8', '9', 'T', 'J', 'Q', 'K', 'A']\n",
    "suits = ['H', 'D', 'C', 'S'] # Hearts, Diamonds, Clubs, Spades\n",
    "deck = [rank + suit for rank in ranks for suit in suits]\n",
    "kings = {'KH', 'KD', 'KC', 'KS'}"
   ]
  },
  {
   "cell_type": "code",
   "execution_count": 3,
   "id": "59c7c9dd",
   "metadata": {},
   "outputs": [],
   "source": [
    "# Simulation parameters\n",
    "num_simulations = 100000"
   ]
  },
  {
   "cell_type": "code",
   "execution_count": 4,
   "id": "cad45b4c",
   "metadata": {},
   "outputs": [],
   "source": [
    "# Counters\n",
    "count_first_king = 0\n",
    "count_second_king = 0\n",
    "count_both_king = 0\n",
    "count_second_king_given_first_king = 0"
   ]
  },
  {
   "cell_type": "code",
   "execution_count": 5,
   "id": "cd635844",
   "metadata": {},
   "outputs": [],
   "source": [
    "# Run simulations\n",
    "for _ in range(num_simulations):\n",
    "    # Shuffle the deck implicitly by drawing random samples\n",
    "    drawn_cards = random.sample(deck, 2)\n",
    "    card1 = drawn_cards[0]\n",
    "    card2 = drawn_cards[1]\n",
    "\n",
    "    # Check conditions\n",
    "    is_first_king = card1 in kings\n",
    "    is_second_king = card2 in kings\n",
    "\n",
    "    if is_first_king:\n",
    "        count_first_king += 1\n",
    "        if is_second_king:\n",
    "            count_second_king_given_first_king += 1\n",
    "\n",
    "    if is_second_king:\n",
    "        count_second_king += 1\n",
    "\n",
    "    if is_first_king and is_second_king:\n",
    "        count_both_king += 1"
   ]
  },
  {
   "cell_type": "code",
   "execution_count": 6,
   "id": "a87e4e00",
   "metadata": {},
   "outputs": [],
   "source": [
    "# Calculate probabilities from simulation\n",
    "prob_first_king_sim = count_first_king / num_simulations\n",
    "prob_second_king_sim = count_second_king / num_simulations\n",
    "prob_both_king_sim = count_both_king / num_simulations"
   ]
  },
  {
   "cell_type": "code",
   "execution_count": 7,
   "id": "e44ee950",
   "metadata": {},
   "outputs": [],
   "source": [
    "# Calculate conditional probability P(B|A) = P(A and B) / P(A)\n",
    "# We can estimate this directly from the counts:\n",
    "if count_first_king > 0:\n",
    "    prob_second_given_first_sim = count_second_king_given_first_king / count_first_king\n",
    "else:\n",
    "    prob_second_given_first_sim = 0"
   ]
  },
  {
   "cell_type": "code",
   "execution_count": 8,
   "id": "9144f93c",
   "metadata": {},
   "outputs": [],
   "source": [
    "# Theoretical values\n",
    "prob_first_king_theory = 4/52\n",
    "prob_second_king_theory = 4/52 # By symmetry\n",
    "prob_both_king_theory = (4/52) * (3/51)\n",
    "prob_second_given_first_theory = 3/51"
   ]
  },
  {
   "cell_type": "code",
   "execution_count": 9,
   "id": "d11e1412",
   "metadata": {},
   "outputs": [
    {
     "name": "stdout",
     "output_type": "stream",
     "text": [
      "--- Theoretical Probabilities ---\n",
      "P(1st is King): 0.076923 (4/52)\n",
      "P(2nd is King): 0.076923 (4/52)\n",
      "P(Both Kings): 0.004525\n",
      "P(2nd is King | 1st is King): 0.058824 (3/51)\n",
      "\n",
      "\n",
      "--- Simulation Results (100000 runs) ---\n",
      "Estimated P(1st is King): 0.077270\n",
      "Estimated P(2nd is King): 0.076120\n",
      "Estimated P(Both Kings): 0.004400\n",
      "Estimated P(2nd is King | 1st is King): 0.056943\n"
     ]
    }
   ],
   "source": [
    "# Print results\n",
    "print(f\"--- Theoretical Probabilities ---\")\n",
    "print(f\"P(1st is King): {prob_first_king_theory:.6f} ({4}/{52})\")\n",
    "print(f\"P(2nd is King): {prob_second_king_theory:.6f} ({4}/{52})\")\n",
    "print(f\"P(Both Kings): {prob_both_king_theory:.6f}\")\n",
    "print(f\"P(2nd is King | 1st is King): {prob_second_given_first_theory:.6f} ({3}/{51})\")\n",
    "print(\"\\n\")\n",
    "print(f\"--- Simulation Results ({num_simulations} runs) ---\")\n",
    "print(f\"Estimated P(1st is King): {prob_first_king_sim:.6f}\")\n",
    "print(f\"Estimated P(2nd is King): {prob_second_king_sim:.6f}\")\n",
    "print(f\"Estimated P(Both Kings): {prob_both_king_sim:.6f}\")\n",
    "print(f\"Estimated P(2nd is King | 1st is King): {prob_second_given_first_sim:.6f}\")"
   ]
  },
  {
   "cell_type": "markdown",
   "id": "b8026446",
   "metadata": {},
   "source": [
    "The simulation results should be very close to the theoretical values, demonstrating how simulation can approximate probabilistic calculations. The larger `num_simulations`, the closer the estimates will typically be."
   ]
  },
  {
   "cell_type": "markdown",
   "id": "9cf07e4b",
   "metadata": {},
   "source": [
    "### 5.2 Calculating Conditional Probabilities from Data\n",
    "\n",
    "Imagine we have data about website visitors, including whether they made a purchase and whether they visited a specific product page first. We can use Pandas to calculate conditional probabilities from this data."
   ]
  },
  {
   "cell_type": "code",
   "execution_count": 10,
   "id": "34292747",
   "metadata": {},
   "outputs": [],
   "source": [
    "# Create sample data\n",
    "data = {\n",
    "    'visited_product_page': [True, False, True, True, False, False, True, True, False, True],\n",
    "    'made_purchase':        [True, False, False, True, False, True, False, True, False, False]\n",
    "}\n",
    "df = pd.DataFrame(data)"
   ]
  },
  {
   "cell_type": "code",
   "execution_count": 11,
   "id": "b8e9a9d9",
   "metadata": {},
   "outputs": [
    {
     "name": "stdout",
     "output_type": "stream",
     "text": [
      "Sample Visitor Data:\n",
      "   visited_product_page  made_purchase\n",
      "0                  True           True\n",
      "1                 False          False\n",
      "2                  True          False\n",
      "3                  True           True\n",
      "4                 False          False\n",
      "5                 False           True\n",
      "6                  True          False\n",
      "7                  True           True\n",
      "8                 False          False\n",
      "9                  True          False\n",
      "\n",
      "\n"
     ]
    }
   ],
   "source": [
    "print(\"Sample Visitor Data:\")\n",
    "print(df)\n",
    "print(\"\\n\")"
   ]
  },
  {
   "cell_type": "code",
   "execution_count": 12,
   "id": "2d23a23c",
   "metadata": {},
   "outputs": [],
   "source": [
    "# Calculate basic probabilities\n",
    "n_total = len(df)\n",
    "n_visited_page = df['visited_product_page'].sum()\n",
    "n_purchased = df['made_purchase'].sum()\n",
    "n_visited_and_purchased = len(df[(df['visited_product_page'] == True) & (df['made_purchase'] == True)])"
   ]
  },
  {
   "cell_type": "code",
   "execution_count": 13,
   "id": "5d1f2895",
   "metadata": {},
   "outputs": [],
   "source": [
    "P_visited = n_visited_page / n_total\n",
    "P_purchased = n_purchased / n_total\n",
    "P_visited_and_purchased = n_visited_and_purchased / n_total"
   ]
  },
  {
   "cell_type": "code",
   "execution_count": 14,
   "id": "c56b93b7",
   "metadata": {},
   "outputs": [
    {
     "name": "stdout",
     "output_type": "stream",
     "text": [
      "P(Visited Page) = 0.60\n",
      "P(Purchased) = 0.40\n",
      "P(Visited and Purchased) = 0.30\n",
      "\n",
      "\n"
     ]
    }
   ],
   "source": [
    "print(f\"P(Visited Page) = {P_visited:.2f}\")\n",
    "print(f\"P(Purchased) = {P_purchased:.2f}\")\n",
    "print(f\"P(Visited and Purchased) = {P_visited_and_purchased:.2f}\")\n",
    "print(\"\\n\")"
   ]
  },
  {
   "cell_type": "code",
   "execution_count": 15,
   "id": "7f6ef9b3",
   "metadata": {},
   "outputs": [
    {
     "name": "stdout",
     "output_type": "stream",
     "text": [
      "Calculated P(Purchased | Visited Page) = 0.50\n"
     ]
    }
   ],
   "source": [
    "# Calculate Conditional Probability: P(Purchase | Visited Page)\n",
    "# P(A|B) = P(A and B) / P(B)\n",
    "# A = Purchased, B = Visited Page\n",
    "if P_visited > 0:\n",
    "    P_purchased_given_visited = P_visited_and_purchased / P_visited\n",
    "    print(f\"Calculated P(Purchased | Visited Page) = {P_purchased_given_visited:.2f}\")\n",
    "else:\n",
    "    print(\"Cannot calculate P(Purchased | Visited Page) as P(Visited Page) is 0.\")"
   ]
  },
  {
   "cell_type": "code",
   "execution_count": 16,
   "id": "a7f0b116",
   "metadata": {},
   "outputs": [],
   "source": [
    "# Direct calculation from counts:\n",
    "# Find subset where Visited Page is True\n",
    "df_visited = df[df['visited_product_page'] == True]\n",
    "# Among those, find how many Purchased\n",
    "n_purchased_in_visited = df_visited['made_purchase'].sum()\n",
    "n_visited = len(df_visited) # Same as n_visited_page calculated earlier"
   ]
  },
  {
   "cell_type": "code",
   "execution_count": 17,
   "id": "21d680d6",
   "metadata": {},
   "outputs": [
    {
     "name": "stdout",
     "output_type": "stream",
     "text": [
      "Direct P(Purchased | Visited Page) = 0.50 (3/6)\n"
     ]
    }
   ],
   "source": [
    "if n_visited > 0:\n",
    "    P_purchased_given_visited_direct = n_purchased_in_visited / n_visited\n",
    "    print(f\"Direct P(Purchased | Visited Page) = {P_purchased_given_visited_direct:.2f} ({n_purchased_in_visited}/{n_visited})\")\n",
    "else:\n",
    "    print(\"Cannot calculate P(Purchased | Visited Page) directly as no one visited the page.\")"
   ]
  },
  {
   "cell_type": "code",
   "execution_count": 18,
   "id": "7227d858",
   "metadata": {},
   "outputs": [
    {
     "name": "stdout",
     "output_type": "stream",
     "text": [
      "\n",
      "Calculated P(Visited Page | Purchased) = 0.75\n"
     ]
    }
   ],
   "source": [
    "# Calculate Conditional Probability: P(Visited Page | Purchased)\n",
    "# P(B|A) = P(A and B) / P(A)\n",
    "# A = Purchased, B = Visited Page\n",
    "if P_purchased > 0:\n",
    "    P_visited_given_purchased = P_visited_and_purchased / P_purchased\n",
    "    print(f\"\\nCalculated P(Visited Page | Purchased) = {P_visited_given_purchased:.2f}\")\n",
    "else:\n",
    "    print(\"\\nCannot calculate P(Visited Page | Purchased) as P(Purchased) is 0.\")"
   ]
  },
  {
   "cell_type": "code",
   "execution_count": 19,
   "id": "39c09931",
   "metadata": {},
   "outputs": [],
   "source": [
    "# Direct calculation from counts:\n",
    "df_purchased = df[df['made_purchase'] == True]\n",
    "n_visited_in_purchased = df_purchased['visited_product_page'].sum()\n",
    "n_purchased_total = len(df_purchased) # Same as n_purchased calculated earlier"
   ]
  },
  {
   "cell_type": "code",
   "execution_count": 20,
   "id": "c39da1f8",
   "metadata": {
    "lines_to_next_cell": 2
   },
   "outputs": [
    {
     "name": "stdout",
     "output_type": "stream",
     "text": [
      "Direct P(Visited Page | Purchased) = 0.75 (3/4)\n"
     ]
    }
   ],
   "source": [
    "if n_purchased_total > 0:\n",
    "    P_visited_given_purchased_direct = n_visited_in_purchased / n_purchased_total\n",
    "    print(f\"Direct P(Visited Page | Purchased) = {P_visited_given_purchased_direct:.2f} ({n_visited_in_purchased}/{n_purchased_total})\")\n",
    "else:\n",
    "     print(\"\\nCannot calculate P(Visited Page | Purchased) directly as no one made a purchase.\")"
   ]
  },
  {
   "cell_type": "markdown",
   "id": "fedb6481",
   "metadata": {},
   "source": [
    "This example shows how to compute conditional probabilities directly from observed data, a common task in data analysis. $P(\\text{Purchased} | \\text{Visited Page})$ tells us the likelihood of a purchase *among those who visited the specific page*, while $P(\\text{Visited Page} | \\text{Purchased})$ tells us the likelihood that someone who *did* purchase had previously visited that page. These can be very different values!"
   ]
  },
  {
   "cell_type": "markdown",
   "id": "981ceaeb",
   "metadata": {},
   "source": [
    "### 5.3 Applying the Law of Total Probability\n",
    "\n",
    "Let's use the Law of Total Probability with a manufacturing example. Suppose a factory has two machines, M1 and M2, producing widgets.\n",
    "* Machine M1 produces 60% of the widgets ($P(M1) = 0.6$).\n",
    "* Machine M2 produces 40% of the widgets ($P(M2) = 0.4$).\n",
    "* 2% of widgets from M1 are defective ($P(D|M1) = 0.02$).\n",
    "* 5% of widgets from M2 are defective ($P(D|M2) = 0.05$).\n",
    "\n",
    "What is the overall probability that a randomly selected widget is defective ($P(D)$)?\n",
    "\n",
    "The events M1 (widget produced by M1) and M2 (widget produced by M2) form a partition of the sample space (all widgets). Using the Law of Total Probability:\n",
    "\n",
    "$P(D) = P(D|M1)P(M1) + P(D|M2)P(M2)$"
   ]
  },
  {
   "cell_type": "code",
   "execution_count": 21,
   "id": "b5ac19ea",
   "metadata": {},
   "outputs": [],
   "source": [
    "# Define probabilities\n",
    "P_M1 = 0.60\n",
    "P_M2 = 0.40\n",
    "P_D_given_M1 = 0.02\n",
    "P_D_given_M2 = 0.05"
   ]
  },
  {
   "cell_type": "code",
   "execution_count": 22,
   "id": "24bceebf",
   "metadata": {},
   "outputs": [],
   "source": [
    "# Apply Law of Total Probability\n",
    "P_D = (P_D_given_M1 * P_M1) + (P_D_given_M2 * P_M2)"
   ]
  },
  {
   "cell_type": "code",
   "execution_count": 23,
   "id": "2f4b35d2",
   "metadata": {},
   "outputs": [
    {
     "name": "stdout",
     "output_type": "stream",
     "text": [
      "P(Defective | M1) = 0.02\n",
      "P(M1) = 0.6\n",
      "P(Defective | M2) = 0.05\n",
      "P(M2) = 0.4\n",
      "\n",
      "\n",
      "Overall Probability of a Defective Widget P(D) = (0.02 * 0.6) + (0.05 * 0.4) = 0.0320\n"
     ]
    }
   ],
   "source": [
    "print(f\"P(Defective | M1) = {P_D_given_M1}\")\n",
    "print(f\"P(M1) = {P_M1}\")\n",
    "print(f\"P(Defective | M2) = {P_D_given_M2}\")\n",
    "print(f\"P(M2) = {P_M2}\")\n",
    "print(\"\\n\")\n",
    "print(f\"Overall Probability of a Defective Widget P(D) = ({P_D_given_M1} * {P_M1}) + ({P_D_given_M2} * {P_M2}) = {P_D:.4f}\")"
   ]
  },
  {
   "cell_type": "markdown",
   "id": "45e58ceb",
   "metadata": {},
   "source": [
    "So, the overall probability of finding a defective widget is 3.2%. This weighted average reflects that while M2 produces more defective items proportionatly, M1 produces more items overall.\n",
    "\n",
    "We could also simulate this:"
   ]
  },
  {
   "cell_type": "code",
   "execution_count": 24,
   "id": "c2c48f0d",
   "metadata": {},
   "outputs": [],
   "source": [
    "num_widgets_sim = 100000\n",
    "defective_count = 0"
   ]
  },
  {
   "cell_type": "code",
   "execution_count": 25,
   "id": "1099d666",
   "metadata": {},
   "outputs": [],
   "source": [
    "for _ in range(num_widgets_sim):\n",
    "    # Decide which machine produced the widget\n",
    "    if random.random() < P_M1: # Simulates P(M1)\n",
    "        # Widget from M1\n",
    "        # Check if it's defective\n",
    "        if random.random() < P_D_given_M1: # Simulates P(D|M1)\n",
    "            defective_count += 1\n",
    "    else:\n",
    "        # Widget from M2\n",
    "        # Check if it's defective\n",
    "        if random.random() < P_D_given_M2: # Simulates P(D|M2)\n",
    "            defective_count += 1"
   ]
  },
  {
   "cell_type": "code",
   "execution_count": 26,
   "id": "e144346b",
   "metadata": {},
   "outputs": [],
   "source": [
    "# Estimate P(D) from simulation\n",
    "P_D_sim = defective_count / num_widgets_sim"
   ]
  },
  {
   "cell_type": "code",
   "execution_count": 27,
   "id": "9e61c527",
   "metadata": {},
   "outputs": [
    {
     "name": "stdout",
     "output_type": "stream",
     "text": [
      "\n",
      "--- Simulation Results (100000 widgets) ---\n",
      "Estimated overall P(Defective): 0.0326\n"
     ]
    }
   ],
   "source": [
    "print(f\"\\n--- Simulation Results ({num_widgets_sim} widgets) ---\")\n",
    "print(f\"Estimated overall P(Defective): {P_D_sim:.4f}\")"
   ]
  },
  {
   "cell_type": "markdown",
   "id": "cbccb479",
   "metadata": {},
   "source": [
    "Again, the simulation provides an estimate very close to the calculated value.\n",
    "\n",
    "---\n",
    "\n",
    "This chapter introduced conditional probability, the multiplication rule, the law of total probability, and tree diagrams. These concepts are crucial for reasoning under uncertainty and form the basis for more advanced topics like Bayes' Theorem, which we will explore in the next chapter. The hands-on examples demonstrated how to calculate and simulate these probabilities using Python."
   ]
  },
  {
   "cell_type": "markdown",
   "id": "a759bab2",
   "metadata": {},
   "source": [
    "## Exercises\n",
    "\n",
    "1.  **Two Dice:** If you roll two fair six-sided dice, what is the conditional probability that the sum is 8, given that the first die shows a 3? What is the conditional probability that the first die shows a 3, given that the sum is 8?\n",
    "2.  **Medical Test:** A disease affects 1 in 1000 people. A test for the disease is 99% accurate (i.e., P(Positive | Disease) = 0.99) and has a 2% false positive rate (i.e., P(Positive | No Disease) = 0.02). Use the Law of Total Probability to calculate the overall probability that a randomly selected person tests positive. (We will revisit this in the Bayes' Theorem chapter).\n",
    "3.  **Card Simulation:** Modify the card drawing simulation to calculate the probability of drawing two cards of the *same rank* (e.g., two 7s, two Kings, etc.). Compare the simulation result to the theoretical probability. (Hint: The first card can be anything. What's the probability the second matches its rank?).\n",
    "4.  **Data Analysis:** Load a real dataset (e.g., the Titanic dataset often used in machine learning introductions) using Pandas. Calculate the conditional probability of survival given the passenger's class (e.g., P(Survived | Class=1st), P(Survived | Class=3rd)). What do these probabilities tell you?"
   ]
  }
 ],
 "metadata": {
  "jupytext": {
   "formats": "ipynb,py:light"
  },
  "kernelspec": {
   "display_name": "Python 3 (ipykernel)",
   "language": "python",
   "name": "python3"
  },
  "language_info": {
   "codemirror_mode": {
    "name": "ipython",
    "version": 3
   },
   "file_extension": ".py",
   "mimetype": "text/x-python",
   "name": "python",
   "nbconvert_exporter": "python",
   "pygments_lexer": "ipython3",
   "version": "3.11.10"
  }
 },
 "nbformat": 4,
 "nbformat_minor": 5
}
